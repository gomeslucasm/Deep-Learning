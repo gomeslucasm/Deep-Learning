{
  "nbformat": 4,
  "nbformat_minor": 0,
  "metadata": {
    "colab": {
      "name": "Word2Vec_Lucas_Gomes.ipynb",
      "provenance": [],
      "collapsed_sections": [
        "edHfXHsJx6PH",
        "L-Yn1i3w4nYQ"
      ]
    },
    "kernelspec": {
      "name": "python3",
      "display_name": "Python 3"
    }
  },
  "cells": [
    {
      "cell_type": "markdown",
      "metadata": {
        "id": "KEHafkstxrSx"
      },
      "source": [
        "# Passo 1: Baixar Dados\n",
        "\n",
        "Aqui usaremos uma planilha do Microsoft Excel com dados de compras de usuários em um sistema de varejo. O nome do arquivo é `retail.xlsx`."
      ]
    },
    {
      "cell_type": "code",
      "metadata": {
        "id": "y9J6QmO3xJ3t",
        "outputId": "5914649f-13d7-465a-d808-1d8173ae0d45",
        "colab": {
          "base_uri": "https://localhost:8080/",
          "height": 85
        }
      },
      "source": [
        "!gdown https://drive.google.com/uc?id=1NK-2z0l-qTplDJJ2SHpTVBGRP3zWAK-n"
      ],
      "execution_count": null,
      "outputs": [
        {
          "output_type": "stream",
          "text": [
            "Downloading...\n",
            "From: https://drive.google.com/uc?id=1NK-2z0l-qTplDJJ2SHpTVBGRP3zWAK-n\n",
            "To: /content/retail.xlsx\n",
            "\r0.00B [00:00, ?B/s]\r4.72MB [00:00, 39.0MB/s]\r23.7MB [00:00, 111MB/s] \n"
          ],
          "name": "stdout"
        }
      ]
    },
    {
      "cell_type": "markdown",
      "metadata": {
        "id": "XFZELJRCyLut"
      },
      "source": [
        "Usaremos a biblioteca `pandas` para fazer a leitura dos dados"
      ]
    },
    {
      "cell_type": "code",
      "metadata": {
        "id": "A_HXamB_yLIi"
      },
      "source": [
        "import pandas as pd"
      ],
      "execution_count": null,
      "outputs": []
    },
    {
      "cell_type": "markdown",
      "metadata": {
        "id": "qQqCAb-3yZRN"
      },
      "source": [
        "Aqui fazemos a leitura dos dados para um objeto `DataFrame` do `pandas`."
      ]
    },
    {
      "cell_type": "code",
      "metadata": {
        "id": "33NLQ2NgyciL"
      },
      "source": [
        "# Esta linha de código pode demorar cerca de 1 min para rodar\n",
        "df = pd.read_excel('retail.xlsx')"
      ],
      "execution_count": null,
      "outputs": []
    },
    {
      "cell_type": "markdown",
      "metadata": {
        "id": "0FLMkSqUyrWa"
      },
      "source": [
        "Agora podemos dar uma observada nos dados para entender como estão organizados."
      ]
    },
    {
      "cell_type": "code",
      "metadata": {
        "id": "TE4oGyTqyqdT",
        "outputId": "a5f59ecf-d13a-4eb1-c423-a723ab49cdb6",
        "colab": {
          "base_uri": "https://localhost:8080/",
          "height": 419
        }
      },
      "source": [
        "df"
      ],
      "execution_count": null,
      "outputs": [
        {
          "output_type": "execute_result",
          "data": {
            "text/html": [
              "<div>\n",
              "<style scoped>\n",
              "    .dataframe tbody tr th:only-of-type {\n",
              "        vertical-align: middle;\n",
              "    }\n",
              "\n",
              "    .dataframe tbody tr th {\n",
              "        vertical-align: top;\n",
              "    }\n",
              "\n",
              "    .dataframe thead th {\n",
              "        text-align: right;\n",
              "    }\n",
              "</style>\n",
              "<table border=\"1\" class=\"dataframe\">\n",
              "  <thead>\n",
              "    <tr style=\"text-align: right;\">\n",
              "      <th></th>\n",
              "      <th>InvoiceNo</th>\n",
              "      <th>StockCode</th>\n",
              "      <th>Description</th>\n",
              "      <th>Quantity</th>\n",
              "      <th>InvoiceDate</th>\n",
              "      <th>UnitPrice</th>\n",
              "      <th>CustomerID</th>\n",
              "      <th>Country</th>\n",
              "    </tr>\n",
              "  </thead>\n",
              "  <tbody>\n",
              "    <tr>\n",
              "      <th>0</th>\n",
              "      <td>536365</td>\n",
              "      <td>85123A</td>\n",
              "      <td>WHITE HANGING HEART T-LIGHT HOLDER</td>\n",
              "      <td>6</td>\n",
              "      <td>2010-12-01 08:26:00</td>\n",
              "      <td>2.55</td>\n",
              "      <td>17850.0</td>\n",
              "      <td>United Kingdom</td>\n",
              "    </tr>\n",
              "    <tr>\n",
              "      <th>1</th>\n",
              "      <td>536365</td>\n",
              "      <td>71053</td>\n",
              "      <td>WHITE METAL LANTERN</td>\n",
              "      <td>6</td>\n",
              "      <td>2010-12-01 08:26:00</td>\n",
              "      <td>3.39</td>\n",
              "      <td>17850.0</td>\n",
              "      <td>United Kingdom</td>\n",
              "    </tr>\n",
              "    <tr>\n",
              "      <th>2</th>\n",
              "      <td>536365</td>\n",
              "      <td>84406B</td>\n",
              "      <td>CREAM CUPID HEARTS COAT HANGER</td>\n",
              "      <td>8</td>\n",
              "      <td>2010-12-01 08:26:00</td>\n",
              "      <td>2.75</td>\n",
              "      <td>17850.0</td>\n",
              "      <td>United Kingdom</td>\n",
              "    </tr>\n",
              "    <tr>\n",
              "      <th>3</th>\n",
              "      <td>536365</td>\n",
              "      <td>84029G</td>\n",
              "      <td>KNITTED UNION FLAG HOT WATER BOTTLE</td>\n",
              "      <td>6</td>\n",
              "      <td>2010-12-01 08:26:00</td>\n",
              "      <td>3.39</td>\n",
              "      <td>17850.0</td>\n",
              "      <td>United Kingdom</td>\n",
              "    </tr>\n",
              "    <tr>\n",
              "      <th>4</th>\n",
              "      <td>536365</td>\n",
              "      <td>84029E</td>\n",
              "      <td>RED WOOLLY HOTTIE WHITE HEART.</td>\n",
              "      <td>6</td>\n",
              "      <td>2010-12-01 08:26:00</td>\n",
              "      <td>3.39</td>\n",
              "      <td>17850.0</td>\n",
              "      <td>United Kingdom</td>\n",
              "    </tr>\n",
              "    <tr>\n",
              "      <th>...</th>\n",
              "      <td>...</td>\n",
              "      <td>...</td>\n",
              "      <td>...</td>\n",
              "      <td>...</td>\n",
              "      <td>...</td>\n",
              "      <td>...</td>\n",
              "      <td>...</td>\n",
              "      <td>...</td>\n",
              "    </tr>\n",
              "    <tr>\n",
              "      <th>541904</th>\n",
              "      <td>581587</td>\n",
              "      <td>22613</td>\n",
              "      <td>PACK OF 20 SPACEBOY NAPKINS</td>\n",
              "      <td>12</td>\n",
              "      <td>2011-12-09 12:50:00</td>\n",
              "      <td>0.85</td>\n",
              "      <td>12680.0</td>\n",
              "      <td>France</td>\n",
              "    </tr>\n",
              "    <tr>\n",
              "      <th>541905</th>\n",
              "      <td>581587</td>\n",
              "      <td>22899</td>\n",
              "      <td>CHILDREN'S APRON DOLLY GIRL</td>\n",
              "      <td>6</td>\n",
              "      <td>2011-12-09 12:50:00</td>\n",
              "      <td>2.10</td>\n",
              "      <td>12680.0</td>\n",
              "      <td>France</td>\n",
              "    </tr>\n",
              "    <tr>\n",
              "      <th>541906</th>\n",
              "      <td>581587</td>\n",
              "      <td>23254</td>\n",
              "      <td>CHILDRENS CUTLERY DOLLY GIRL</td>\n",
              "      <td>4</td>\n",
              "      <td>2011-12-09 12:50:00</td>\n",
              "      <td>4.15</td>\n",
              "      <td>12680.0</td>\n",
              "      <td>France</td>\n",
              "    </tr>\n",
              "    <tr>\n",
              "      <th>541907</th>\n",
              "      <td>581587</td>\n",
              "      <td>23255</td>\n",
              "      <td>CHILDRENS CUTLERY CIRCUS PARADE</td>\n",
              "      <td>4</td>\n",
              "      <td>2011-12-09 12:50:00</td>\n",
              "      <td>4.15</td>\n",
              "      <td>12680.0</td>\n",
              "      <td>France</td>\n",
              "    </tr>\n",
              "    <tr>\n",
              "      <th>541908</th>\n",
              "      <td>581587</td>\n",
              "      <td>22138</td>\n",
              "      <td>BAKING SET 9 PIECE RETROSPOT</td>\n",
              "      <td>3</td>\n",
              "      <td>2011-12-09 12:50:00</td>\n",
              "      <td>4.95</td>\n",
              "      <td>12680.0</td>\n",
              "      <td>France</td>\n",
              "    </tr>\n",
              "  </tbody>\n",
              "</table>\n",
              "<p>541909 rows × 8 columns</p>\n",
              "</div>"
            ],
            "text/plain": [
              "       InvoiceNo StockCode  ... CustomerID         Country\n",
              "0         536365    85123A  ...    17850.0  United Kingdom\n",
              "1         536365     71053  ...    17850.0  United Kingdom\n",
              "2         536365    84406B  ...    17850.0  United Kingdom\n",
              "3         536365    84029G  ...    17850.0  United Kingdom\n",
              "4         536365    84029E  ...    17850.0  United Kingdom\n",
              "...          ...       ...  ...        ...             ...\n",
              "541904    581587     22613  ...    12680.0          France\n",
              "541905    581587     22899  ...    12680.0          France\n",
              "541906    581587     23254  ...    12680.0          France\n",
              "541907    581587     23255  ...    12680.0          France\n",
              "541908    581587     22138  ...    12680.0          France\n",
              "\n",
              "[541909 rows x 8 columns]"
            ]
          },
          "metadata": {
            "tags": []
          },
          "execution_count": 299
        }
      ]
    },
    {
      "cell_type": "markdown",
      "metadata": {
        "id": "HChM_88szGTN"
      },
      "source": [
        "A tabela acima mostra a estrutura da planilha. Podemos observar os campos:\n",
        "\n",
        "- **InvoiceNo**: Este é um identificador único para cada compra.\n",
        "- **StockCode**: Identificador único para cada produto.\n",
        "- **Description**: Descrição do produto.\n",
        "- **Quantidade**: Quantidade daquele produto, naquela compra.\n",
        "- **InvoiceDate**: Dia e hora da compra.\n",
        "- **CustomerID**: Identificador único do cliente."
      ]
    },
    {
      "cell_type": "code",
      "metadata": {
        "id": "oN-jtPHe0VKz",
        "outputId": "6d482ffa-55d1-4d02-9fc0-8bc7df9926ce",
        "colab": {
          "base_uri": "https://localhost:8080/",
          "height": 34
        }
      },
      "source": [
        "df.shape"
      ],
      "execution_count": null,
      "outputs": [
        {
          "output_type": "execute_result",
          "data": {
            "text/plain": [
              "(541909, 8)"
            ]
          },
          "metadata": {
            "tags": []
          },
          "execution_count": 300
        }
      ]
    },
    {
      "cell_type": "markdown",
      "metadata": {
        "id": "TfS_FBWK0Y_Y"
      },
      "source": [
        "Acima vemos que essa base de dados possui 541.909 registros. Cada registro representa uma linha, ou seja, um produto comprado (cuja quantidade pode ser maior que 1). Diferentes linhas podem representar diferentes itens de uma mesma compra."
      ]
    },
    {
      "cell_type": "markdown",
      "metadata": {
        "id": "zwgPe3f90tSw"
      },
      "source": [
        "# Passo 2: Remoção de Dados Nulos\n",
        "\n",
        "Neste passo vamos remover da base de dados os dados relativos a compras de produtos onde algum dos dados de interesse estejam faltando."
      ]
    },
    {
      "cell_type": "markdown",
      "metadata": {
        "id": "AeSIJZ9x1Cuv"
      },
      "source": [
        "Começamos observando a quantidade de dados nulos"
      ]
    },
    {
      "cell_type": "code",
      "metadata": {
        "id": "jJmozJlf1Aze",
        "outputId": "75fe55a1-76b8-4e57-888e-ec1c44d97ced",
        "colab": {
          "base_uri": "https://localhost:8080/",
          "height": 170
        }
      },
      "source": [
        "df.isnull().sum()"
      ],
      "execution_count": null,
      "outputs": [
        {
          "output_type": "execute_result",
          "data": {
            "text/plain": [
              "InvoiceNo           0\n",
              "StockCode           0\n",
              "Description      1454\n",
              "Quantity            0\n",
              "InvoiceDate         0\n",
              "UnitPrice           0\n",
              "CustomerID     135080\n",
              "Country             0\n",
              "dtype: int64"
            ]
          },
          "metadata": {
            "tags": []
          },
          "execution_count": 301
        }
      ]
    },
    {
      "cell_type": "markdown",
      "metadata": {
        "id": "KWgIGnJL1M9b"
      },
      "source": [
        "Acima podemos observar há 1.454 registros sem a descrição do produto, e 135.080 registros sem a identificação do cliente comprador."
      ]
    },
    {
      "cell_type": "markdown",
      "metadata": {
        "id": "H7RR0IK82HuT"
      },
      "source": [
        "No código abaixo descartaremos esses dados que aparecem com algum campo nulo."
      ]
    },
    {
      "cell_type": "code",
      "metadata": {
        "id": "1ZrVo84f2OmJ",
        "outputId": "44de4b19-1dee-4216-b36b-2da9c57c98b6",
        "colab": {
          "base_uri": "https://localhost:8080/",
          "height": 170
        }
      },
      "source": [
        "# Remove dados nulos\n",
        "df.dropna(inplace=True)\n",
        "# Verifica novamente\n",
        "df.isnull().sum()"
      ],
      "execution_count": null,
      "outputs": [
        {
          "output_type": "execute_result",
          "data": {
            "text/plain": [
              "InvoiceNo      0\n",
              "StockCode      0\n",
              "Description    0\n",
              "Quantity       0\n",
              "InvoiceDate    0\n",
              "UnitPrice      0\n",
              "CustomerID     0\n",
              "Country        0\n",
              "dtype: int64"
            ]
          },
          "metadata": {
            "tags": []
          },
          "execution_count": 302
        }
      ]
    },
    {
      "cell_type": "markdown",
      "metadata": {
        "id": "nlj5sCY7SNs8"
      },
      "source": [
        "# Passo 3: Dicionário de Produtos"
      ]
    },
    {
      "cell_type": "code",
      "metadata": {
        "id": "mZhbpw2PSUUL",
        "outputId": "1091e0bd-d7b4-4dd7-84b7-21272d76538a",
        "colab": {
          "base_uri": "https://localhost:8080/",
          "height": 102
        }
      },
      "source": [
        "# Separa apenas as colunas de código de produto e descrição\n",
        "products = df[[\"StockCode\", \"Description\"]]\n",
        "\n",
        "# Remove duplicados\n",
        "products.drop_duplicates(inplace=True, subset='StockCode', keep=\"last\")\n",
        "\n",
        "# create product-ID and product-description dictionary\n",
        "products_dict = products.groupby('StockCode')['Description'].apply(list).to_dict()"
      ],
      "execution_count": null,
      "outputs": [
        {
          "output_type": "stream",
          "text": [
            "/usr/local/lib/python3.6/dist-packages/ipykernel_launcher.py:5: SettingWithCopyWarning: \n",
            "A value is trying to be set on a copy of a slice from a DataFrame\n",
            "\n",
            "See the caveats in the documentation: https://pandas.pydata.org/pandas-docs/stable/user_guide/indexing.html#returning-a-view-versus-a-copy\n",
            "  \"\"\"\n"
          ],
          "name": "stderr"
        }
      ]
    },
    {
      "cell_type": "code",
      "metadata": {
        "id": "0GtvB9h7Sm-1",
        "outputId": "f5b6c703-1adc-4e79-a8ef-6c18e606a9af",
        "colab": {
          "base_uri": "https://localhost:8080/",
          "height": 35
        }
      },
      "source": [
        "# Teste do dicionário\n",
        "products_dict['84029G'][0]"
      ],
      "execution_count": null,
      "outputs": [
        {
          "output_type": "execute_result",
          "data": {
            "application/vnd.google.colaboratory.intrinsic+json": {
              "type": "string"
            },
            "text/plain": [
              "'KNITTED UNION FLAG HOT WATER BOTTLE'"
            ]
          },
          "metadata": {
            "tags": []
          },
          "execution_count": 304
        }
      ]
    },
    {
      "cell_type": "markdown",
      "metadata": {
        "id": "XzH4dqdM2bPg"
      },
      "source": [
        "# Passo 4: Preparação dos Dados\n",
        "\n",
        "Neste passo vamos preprarar os dados transformando o histórico de compras de cada consumidor numa espécie de \"frase\", onde cada \"palavra\" é um produto comprado."
      ]
    },
    {
      "cell_type": "markdown",
      "metadata": {
        "id": "CVIvmK9v3O96"
      },
      "source": [
        "Começamos convertendo os códigos de produto (coluna **StockCode**) para string, para usar como \"palavras\" no treinamento de um modelo word2vec no `gensim` mais tarde."
      ]
    },
    {
      "cell_type": "code",
      "metadata": {
        "id": "Wvr77qNr2yKh"
      },
      "source": [
        "df['StockCode'] = df['StockCode'].astype(str)"
      ],
      "execution_count": null,
      "outputs": []
    },
    {
      "cell_type": "markdown",
      "metadata": {
        "id": "qev247Zd3fq2"
      },
      "source": [
        "Agora vamos confirmar quantos clientes únicos temos nessa base de dados"
      ]
    },
    {
      "cell_type": "code",
      "metadata": {
        "id": "SLGQA2VZ3lpc",
        "outputId": "accd194c-1bc0-4868-9d5a-a006ebf419dc",
        "colab": {
          "base_uri": "https://localhost:8080/",
          "height": 34
        }
      },
      "source": [
        "# A linha abaixo cria uma lista coletando os ids\n",
        "# da coluna CustomerID, selecionando apenas ids\n",
        "# únicos (não recolhe ids repetidos)\n",
        "customers = df[\"CustomerID\"].unique().tolist()\n",
        "len(customers)"
      ],
      "execution_count": null,
      "outputs": [
        {
          "output_type": "execute_result",
          "data": {
            "text/plain": [
              "4372"
            ]
          },
          "metadata": {
            "tags": []
          },
          "execution_count": 306
        }
      ]
    },
    {
      "cell_type": "markdown",
      "metadata": {
        "id": "2ZTGaq3n35dn"
      },
      "source": [
        "Acima verificamos que há 4.372 clientes na base de dados. Para cada um desses clientes vamos verificar o histórico de compras, criando 4.372 sequências de compras."
      ]
    },
    {
      "cell_type": "markdown",
      "metadata": {
        "id": "cIMP9AOiHWOr"
      },
      "source": [
        "No código abaixo embaralhamos a ordem dos ids dos clientes na lista `customers`."
      ]
    },
    {
      "cell_type": "code",
      "metadata": {
        "id": "MvRoZx2wHOXv"
      },
      "source": [
        "import random\n",
        "random.shuffle(customers)"
      ],
      "execution_count": null,
      "outputs": []
    },
    {
      "cell_type": "markdown",
      "metadata": {
        "id": "cQYdfD3RJI75"
      },
      "source": [
        "Agora vamos separar dados de treinamento e de validação"
      ]
    },
    {
      "cell_type": "code",
      "metadata": {
        "id": "Kq6yEiaQJIjr"
      },
      "source": [
        "# Calcula a quantidade de clientes que usaremos\n",
        "# para treinamento\n",
        "train_size = int(0.9 * len(customers))\n",
        "\n",
        "# Separa os consumidores em duas listas: uma para\n",
        "# treinamento e a outra para validação\n",
        "customers_train = customers[:train_size]\n",
        "customers_val = customers[train_size:len(customers)]\n",
        "\n",
        "# Baseados nessa separação acima, separamos os dados\n",
        "df_train = df[df['CustomerID'].isin(customers_train)]\n",
        "df_val = df[df['CustomerID'].isin(customers_val)]"
      ],
      "execution_count": null,
      "outputs": []
    },
    {
      "cell_type": "code",
      "metadata": {
        "id": "mIgsae-dyrMP"
      },
      "source": [
        ""
      ],
      "execution_count": null,
      "outputs": []
    },
    {
      "cell_type": "markdown",
      "metadata": {
        "id": "IPSvCp8LKB5n"
      },
      "source": [
        "Com essas listas de clientes criamos abaixo as sequências de compras de acordo com os históricos de cada cliente."
      ]
    },
    {
      "cell_type": "code",
      "metadata": {
        "id": "Cp8qT1FJKPY2"
      },
      "source": [
        "# Esse módulo serve para mostrar uma barra de progresso\n",
        "def compile_orders(customers, df):\n",
        "  ''' Essa função coleta todas compras do histódico\n",
        "      de cada cliente. O parâmetro customers é a lista\n",
        "      de ids de clientes e o parâmetro df é o objeto\n",
        "      DataFrame do pandas com os dados de cada compra.\n",
        "      O valor retornado é uma lista de listas, onde cada\n",
        "      lista interna contém a seguência de códigos de produto\n",
        "      de cada compra, na ordem que se apresentava no\n",
        "      histórico.\n",
        "  '''\n",
        "  orders = []\n",
        "  for customer in customers:\n",
        "    order = df[df['CustomerID'] == customer]['StockCode'].tolist()\n",
        "    orders.append(order)\n",
        "  return orders"
      ],
      "execution_count": null,
      "outputs": []
    },
    {
      "cell_type": "code",
      "metadata": {
        "id": "CaIkbOMiM2ne"
      },
      "source": [
        "# Aqui separamos as listas de listas de compras. Este código\n",
        "# demora cerca de 1 minuto para rodar\n",
        "orders_train = compile_orders(customers_train, df_train)\n",
        "orders_val = compile_orders(customers_val, df_val)"
      ],
      "execution_count": null,
      "outputs": []
    },
    {
      "cell_type": "markdown",
      "metadata": {
        "id": "WzuG17hkRrvw"
      },
      "source": [
        "# Word2Vec\n"
      ]
    },
    {
      "cell_type": "markdown",
      "metadata": {
        "id": "RA6RvAJRx2fQ"
      },
      "source": [
        "## Treinando o modelo"
      ]
    },
    {
      "cell_type": "code",
      "metadata": {
        "id": "iP1B8JFzRvtF"
      },
      "source": [
        "from gensim.models import Word2Vec\n",
        "\n",
        "\n",
        "text_word2vec = Word2Vec(orders_train, size=100, window=5, min_count=1, workers=5)\n",
        "\n"
      ],
      "execution_count": null,
      "outputs": []
    },
    {
      "cell_type": "markdown",
      "metadata": {
        "id": "edHfXHsJx6PH"
      },
      "source": [
        "## Procurando produtos parecidos"
      ]
    },
    {
      "cell_type": "code",
      "metadata": {
        "id": "ksIwiRfzx_dx"
      },
      "source": [
        "\n",
        "translator = Translator()\n",
        "\n",
        "def find_similar_prod(model,products_dict, code_product):\n",
        "  \n",
        "  try:\n",
        "    prod_search = products_dict[code_product]\n",
        "  except:\n",
        "    prod_search = products_dict[int(code_product)]\n",
        "\n",
        "  vals = text_word2vec.wv.similar_by_word(code_product)\n",
        "\n",
        "  print('Produto procurado ', str(prod_search), '\\n')\n",
        "\n",
        "  print('Produtos similiares: \\n')\n",
        "  for i in range(len(vals)):\n",
        "    try:\n",
        "      prod_find = products_dict[vals[i][0]]\n",
        "    except:\n",
        "      prod_find = products_dict[int(vals[i][0])]\n",
        "    print(str(prod_find), '- Taxa de similiaridade = ', vals[i][1]*100, '% \\n')\n",
        "    K=0\n",
        "\n",
        "  return None"
      ],
      "execution_count": null,
      "outputs": []
    },
    {
      "cell_type": "code",
      "metadata": {
        "id": "qhKtWPFX0_Su",
        "outputId": "9ddf2f57-962f-485c-ed7a-44f318afd754",
        "colab": {
          "base_uri": "https://localhost:8080/"
        }
      },
      "source": [
        "n = 210\n",
        "find_similar_prod(text_word2vec,products_dict, df['StockCode'][n])"
      ],
      "execution_count": null,
      "outputs": [
        {
          "output_type": "stream",
          "text": [
            "Produto procurado  ['SMALL HEART MEASURING SPOONS'] \n",
            "\n",
            "Produtos similiares: \n",
            "\n",
            "['LARGE HEART MEASURING SPOONS'] - Taxa de similiaridade =  96.66997790336609 % \n",
            "\n",
            "['FUNKY WASHING UP GLOVES ASSORTED'] - Taxa de similiaridade =  88.3884608745575 % \n",
            "\n",
            "['TOAST ITS - I LOVE YOU '] - Taxa de similiaridade =  85.85157990455627 % \n",
            "\n",
            "['SET OF 3 HEART COOKIE CUTTERS'] - Taxa de similiaridade =  84.80281829833984 % \n",
            "\n",
            "['36 FOIL HEART CAKE CASES'] - Taxa de similiaridade =  84.7124457359314 % \n",
            "\n",
            "['RETROSPOT RED WASHING UP GLOVES'] - Taxa de similiaridade =  84.18302536010742 % \n",
            "\n",
            "['SET OF 3 BUTTERFLY COOKIE CUTTERS'] - Taxa de similiaridade =  83.54165554046631 % \n",
            "\n",
            "['BAKING MOULD HEART MILK CHOCOLATE'] - Taxa de similiaridade =  82.67738819122314 % \n",
            "\n",
            "['BAKING MOULD CHOCOLATE CUPCAKES'] - Taxa de similiaridade =  82.29409456253052 % \n",
            "\n",
            "['IVORY PAPER CUP CAKE CASES '] - Taxa de similiaridade =  81.95675611495972 % \n",
            "\n"
          ],
          "name": "stdout"
        },
        {
          "output_type": "stream",
          "text": [
            "/usr/local/lib/python3.6/dist-packages/gensim/matutils.py:737: FutureWarning: Conversion of the second argument of issubdtype from `int` to `np.signedinteger` is deprecated. In future, it will be treated as `np.int64 == np.dtype(int).type`.\n",
            "  if np.issubdtype(vec.dtype, np.int):\n"
          ],
          "name": "stderr"
        }
      ]
    },
    {
      "cell_type": "code",
      "metadata": {
        "id": "KstNZulR4m-O"
      },
      "source": [
        ""
      ],
      "execution_count": null,
      "outputs": []
    },
    {
      "cell_type": "markdown",
      "metadata": {
        "id": "L-Yn1i3w4nYQ"
      },
      "source": [
        "## Procurando por lista"
      ]
    },
    {
      "cell_type": "code",
      "metadata": {
        "id": "Lm5pY8jB4qGa"
      },
      "source": [
        "def search_by_list(model, order_list ,products_dict):\n",
        "  mean_vector =  np.zeros((model.vector_size))\n",
        "  \n",
        "  print('Produtos da lista: \\n')\n",
        "  count = 0 \n",
        "  for product in order_list:\n",
        "    if product in model.wv:\n",
        "      count = count+1\n",
        "      mean_vector = mean_vector + model[product]\n",
        "      try:\n",
        "        print(str(products_dict[product])[2:-2] , end = ', ')\n",
        "      except:\n",
        "        print(str(products_dict[int(product)])[2:-2], end =', ')\n",
        "      if count == 4:\n",
        "        count = 0\n",
        "        print('\\n')\n",
        "  mean_vector = mean_vector/model.vector_size\n",
        "  prod_find = model.similar_by_vector(mean_vector)\n",
        "  count = 0\n",
        "  print('\\n')\n",
        "  print(' Produtos sugeridos: \\n')\n",
        "  for desc, val in prod_find:\n",
        "    if desc in order_list:\n",
        "      pass\n",
        "    else:\n",
        "      count = count+1\n",
        "      try:\n",
        "        print(str(products_dict[desc])[2:-2], '| Taxa de similiaridade = ', val*100, end =  '')\n",
        "      except:\n",
        "        print(str(products_dict[int(desc)])[2:-2], '| Taxa de similiaridade = ', val*100, end = ', ')\n",
        "    if count==2:\n",
        "      count = 0\n",
        "      print('\\n')\n",
        "\n",
        "  print('\\n \\n')\n",
        "  return None"
      ],
      "execution_count": null,
      "outputs": []
    },
    {
      "cell_type": "code",
      "metadata": {
        "id": "NGIMkzq757FT",
        "outputId": "dcce170b-cd35-4056-87a8-5842e42937a4",
        "colab": {
          "base_uri": "https://localhost:8080/"
        }
      },
      "source": [
        "search_by_list(text_word2vec, orders_train[1],products_dict)"
      ],
      "execution_count": null,
      "outputs": [
        {
          "output_type": "stream",
          "text": [
            "Produtos da lista: \n",
            "\n",
            "\n",
            "\n",
            " Produtos sugeridos: \n",
            "\n",
            "MEDIUM CHINESE STYLE SCISSOR | Taxa de similiaridade =  0.0, TROPICAL PASSPORT COVER  | Taxa de similiaridade =  0.0, \n",
            "\n",
            "FOLDING UMBRELLA WHITE/RED POLKADOT | Taxa de similiaridade =  0.0, ZINC SWEETHEART SOAP DISH | Taxa de similiaridade =  0.0, \n",
            "\n",
            "COLUMBIAN CANDLE ROUND | Taxa de similiaridade =  0.0, BEADED PEARL HEART WHITE ON STICK | Taxa de similiaridade =  0.0\n",
            "\n",
            "NUMBER TILE VINTAGE FONT 3 | Taxa de similiaridade =  0.0, DOLLY HONEYCOMB GARLAND | Taxa de similiaridade =  0.0, \n",
            "\n",
            "SET OF 2 TEA TOWELS PING MICROWAVE | Taxa de similiaridade =  0.0, RED RETRO KITCHEN WALL CLOCK | Taxa de similiaridade =  0.0, \n",
            "\n",
            "\n",
            " \n",
            "\n"
          ],
          "name": "stdout"
        },
        {
          "output_type": "stream",
          "text": [
            "/usr/local/lib/python3.6/dist-packages/ipykernel_launcher.py:18: DeprecationWarning: Call to deprecated `similar_by_vector` (Method will be removed in 4.0.0, use self.wv.similar_by_vector() instead).\n"
          ],
          "name": "stderr"
        }
      ]
    },
    {
      "cell_type": "markdown",
      "metadata": {
        "id": "mb6J49PCEFmf"
      },
      "source": [
        "## Testando os modelos com os dados de validação"
      ]
    },
    {
      "cell_type": "code",
      "metadata": {
        "id": "cJegGF5zESHs",
        "outputId": "84e370ee-3785-4251-a5b1-02c517d7a081",
        "colab": {
          "base_uri": "https://localhost:8080/",
          "height": 581
        }
      },
      "source": [
        "idx = np.random.randint(1, high = len(orders_val))\n",
        "search_by_list(text_word2vec, orders_val[idx],products_dict)"
      ],
      "execution_count": null,
      "outputs": [
        {
          "output_type": "stream",
          "text": [
            "Produtos da lista: \n",
            "\n",
            "ALARM CLOCK BAKELIKE GREEN, ALARM CLOCK BAKELIKE RED , BOUDOIR SQUARE TISSUE BOX, PINK PAISLEY SQUARE TISSUE BOX , \n",
            "\n",
            "RED RETROSPOT TISSUE BOX, SET/20 RED RETROSPOT PAPER NAPKINS , CARD MOTORBIKE SANTA, CARD CHRISTMAS VILLAGE, \n",
            "\n",
            "RED DAISY POCKET BOOK , RED DAISY POCKET BOOK , PENS ASSORTED FUNNY FACE, ASS FLORAL PRINT MULTI SCREWDRIVER, \n",
            "\n",
            "ROLL WRAP 50'S CHRISTMAS, ROLL WRAP 50'S RED CHRISTMAS , SET OF 3 GOLD FLYING DUCKS, RECYCLED ACAPULCO MAT GREEN, \n",
            "\n",
            "\n",
            "\n",
            " Produtos sugeridos: \n",
            "\n",
            "EGG CUP HENRIETTA HEN CREAM  | Taxa de similiaridade =  89.82246518135071, POPPY FIELDS CHOPPING BOARD | Taxa de similiaridade =  88.94945979118347, \n",
            "\n",
            "SNACK TRAY HAPPY FOREST   | Taxa de similiaridade =  88.1838321685791, IVORY RETRO KITCHEN WALL CLOCK | Taxa de similiaridade =  88.18351030349731, \n",
            "\n",
            "SNACK TRAY PAISLEY PARK | Taxa de similiaridade =  88.11575174331665, RED APPLES CHOPPING BOARD    | Taxa de similiaridade =  88.08581233024597, \n",
            "\n",
            "SET OF 6 RIBBONS PARTY | Taxa de similiaridade =  87.9478931427002, BLUE RETRO KITCHEN WALL CLOCK | Taxa de similiaridade =  87.87600994110107, \n",
            "\n",
            "RED RETRO KITCHEN WALL CLOCK | Taxa de similiaridade =  87.83518671989441, EGG CUP MILKMAID HELGA  | Taxa de similiaridade =  87.80068159103394, \n",
            "\n",
            "\n",
            " \n",
            "\n"
          ],
          "name": "stdout"
        },
        {
          "output_type": "stream",
          "text": [
            "/usr/local/lib/python3.6/dist-packages/ipykernel_launcher.py:9: DeprecationWarning: Call to deprecated `__getitem__` (Method will be removed in 4.0.0, use self.wv.__getitem__() instead).\n",
            "  if __name__ == '__main__':\n",
            "/usr/local/lib/python3.6/dist-packages/ipykernel_launcher.py:18: DeprecationWarning: Call to deprecated `similar_by_vector` (Method will be removed in 4.0.0, use self.wv.similar_by_vector() instead).\n",
            "/usr/local/lib/python3.6/dist-packages/gensim/matutils.py:737: FutureWarning: Conversion of the second argument of issubdtype from `int` to `np.signedinteger` is deprecated. In future, it will be treated as `np.int64 == np.dtype(int).type`.\n",
            "  if np.issubdtype(vec.dtype, np.int):\n"
          ],
          "name": "stderr"
        }
      ]
    },
    {
      "cell_type": "code",
      "metadata": {
        "id": "ved729LLGbAv",
        "outputId": "c93b70bd-0822-4981-bdfd-a9ae88a13d58",
        "colab": {
          "base_uri": "https://localhost:8080/",
          "height": 785
        }
      },
      "source": [
        "idx = np.random.randint(1, high = len(orders_val))\n",
        "search_by_list(text_word2vec, orders_val[idx],products_dict)"
      ],
      "execution_count": null,
      "outputs": [
        {
          "output_type": "stream",
          "text": [
            "Produtos da lista: \n",
            "\n",
            "PLASTERS IN TIN VINTAGE PAISLEY , PLASTERS IN TIN STRONGMAN, BIRD DECORATION RED RETROSPOT, MEASURING TAPE BABUSHKA PINK, \n",
            "\n",
            "BIRDS MOBILE VINTAGE DESIGN, MOBILE VINTAGE HEARTS , GUMBALL COAT RACK, RETROSPOT WOODEN HEART DECORATION, \n",
            "\n",
            "RED RETROSPOT PEG BAG, DOLLY GIRL LUNCH BOX, SPACEBOY LUNCH BOX , PENCIL CASE LIFE IS BEAUTIFUL, \n",
            "\n",
            "MEMO BOARD RETROSPOT  DESIGN, RED RETROSPOT WRAP , BLUE POLKADOT WRAP, PINK POLKADOT WRAP , \n",
            "\n",
            "PINK PAISLEY ROSE GIFT WRAP, BLUE SCANDINAVIAN PAISLEY WRAP, SET/10 RED POLKADOT PARTY CANDLES, SET OF 4 KNICK KNACK TINS DOILY , \n",
            "\n",
            "STORAGE TIN VINTAGE DOILY , SET OF 3 WOODEN HEART DECORATIONS, SET OF 3 WOODEN STOCKING DECORATION, VINTAGE RED TRIM ENAMEL BOWL , \n",
            "\n",
            "VINTAGE RED ENAMEL TRIM MUG , RED RETROSPOT SHOPPER BAG, POCKET BAG BLUE PAISLEY RED SPOT, ADVENT CALENDAR GINGHAM SACK, \n",
            "\n",
            "JAM MAKING SET PRINTED, MEASURING TAPE BABUSHKA BLUE, 6 RIBBONS RUSTIC CHARM, RIBBON REEL HEARTS DESIGN , \n",
            "\n",
            "OPEN CLOSED METAL SIGN, BAKING SET 9 PIECE RETROSPOT , RETROSPOT TEA SET CERAMIC 11 PC , SET OF 3 REGENCY CAKE TINS, \n",
            "\n",
            "SET 40 HEART SHAPE PETIT FOUR CASES, WRAP RED VINTAGE DOILY, ROSE CARAVAN DOORSTOP, WOODLAND DESIGN  COTTON TOTE BAG, \n",
            "\n",
            "SAVE THE PLANET COTTON TOTE BAG, BAG 250g SWIRLY MARBLES, PLASTERS IN TIN WOODLAND ANIMALS, \n",
            "\n",
            " Produtos sugeridos: \n",
            "\n",
            "18PC WOODEN CUTLERY SET DISPOSABLE | Taxa de similiaridade =  92.88095235824585, WOODLAND STORAGE BOX SMALL | Taxa de similiaridade =  92.84221529960632, \n",
            "\n",
            "BLUE BUNNY EASTER EGG BASKET | Taxa de similiaridade =  91.28856658935547, ANTIQUE IVORY WIRE BOWL SMALL | Taxa de similiaridade =  91.20101928710938, \n",
            "\n",
            "6PC WOOD PLATE SET DISPOSABLE | Taxa de similiaridade =  91.02693796157837, VINTAGE BLUE TINSEL REEL | Taxa de similiaridade =  90.65699577331543, \n",
            "\n",
            "HALL CABINET WITH 3 DRAWERS | Taxa de similiaridade =  89.9442732334137, SET OF 6 RIBBONS PARTY | Taxa de similiaridade =  89.74230289459229, \n",
            "\n",
            "WHITE STITCHED CUSHION COVER | Taxa de similiaridade =  89.5770788192749, PAIR PADDED HANGERS PINK CHECK | Taxa de similiaridade =  89.41824436187744\n",
            "\n",
            "\n",
            " \n",
            "\n"
          ],
          "name": "stdout"
        },
        {
          "output_type": "stream",
          "text": [
            "/usr/local/lib/python3.6/dist-packages/ipykernel_launcher.py:9: DeprecationWarning: Call to deprecated `__getitem__` (Method will be removed in 4.0.0, use self.wv.__getitem__() instead).\n",
            "  if __name__ == '__main__':\n",
            "/usr/local/lib/python3.6/dist-packages/ipykernel_launcher.py:18: DeprecationWarning: Call to deprecated `similar_by_vector` (Method will be removed in 4.0.0, use self.wv.similar_by_vector() instead).\n",
            "/usr/local/lib/python3.6/dist-packages/gensim/matutils.py:737: FutureWarning: Conversion of the second argument of issubdtype from `int` to `np.signedinteger` is deprecated. In future, it will be treated as `np.int64 == np.dtype(int).type`.\n",
            "  if np.issubdtype(vec.dtype, np.int):\n"
          ],
          "name": "stderr"
        }
      ]
    },
    {
      "cell_type": "code",
      "metadata": {
        "id": "02LGaaudGbSN",
        "outputId": "66b8ff0b-4387-41a8-cbfe-7f1f5ad51239",
        "colab": {
          "base_uri": "https://localhost:8080/",
          "height": 1000
        }
      },
      "source": [
        "idx = np.random.randint(1, high = len(orders_val))\n",
        "search_by_list(text_word2vec, orders_val[idx],products_dict)"
      ],
      "execution_count": null,
      "outputs": [
        {
          "output_type": "stream",
          "text": [
            "Produtos da lista: \n",
            "\n",
            "ALARM CLOCK BAKELIKE GREEN, ALARM CLOCK BAKELIKE IVORY, HAND WARMER OWL DESIGN, HAND WARMER BIRD DESIGN, \n",
            "\n",
            "HAND WARMER UNION JACK, CREAM HEART CARD HOLDER, COLOURED GLASS STAR T-LIGHT HOLDER, GREEN CHRISTMAS TREE CARD HOLDER, \n",
            "\n",
            "HAND OVER THE CHOCOLATE   SIGN , ANTIQUE SILVER T-LIGHT GLASS, HOME BUILDING BLOCK WORD, WOOD BLACK BOARD ANT WHITE FINISH, \n",
            "\n",
            "HAND WARMER OWL DESIGN, CREAM HANGING HEART T-LIGHT HOLDER, ALARM CLOCK BAKELIKE GREEN, PLEASE ONE PERSON METAL SIGN, \n",
            "\n",
            "ALARM CLOCK BAKELIKE PINK, SET OF 3 CAKE TINS PANTRY DESIGN , IVORY KITCHEN SCALES, RED KITCHEN SCALES, \n",
            "\n",
            "ALARM CLOCK BAKELIKE GREEN, ALARM CLOCK BAKELIKE RED , ALARM CLOCK BAKELIKE IVORY, ROUND CAKE TIN VINTAGE GREEN, \n",
            "\n",
            "RETROSPOT HEART HOT WATER BOTTLE, RED HANGING HEART T-LIGHT HOLDER, CREAM HEART CARD HOLDER, WOOD BLACK BOARD ANT WHITE FINISH, \n",
            "\n",
            "CHICK GREY HOT WATER BOTTLE, HOME BUILDING BLOCK WORD, RED STRIPE CERAMIC DRAWER KNOB, BLUE STRIPE CERAMIC DRAWER KNOB, \n",
            "\n",
            "BLUE SPOT CERAMIC DRAWER KNOB, RED SPOT CERAMIC DRAWER KNOB, PINK HANGING HEART T-LIGHT HOLDER, CREAM HANGING HEART T-LIGHT HOLDER, \n",
            "\n",
            "ASSORTED COLOUR BIRD ORNAMENT, LARGE HANGING IVORY & RED WOOD BIRD, HOOK, 1 HANGER ,MAGIC GARDEN, HOT BATHS METAL SIGN, \n",
            "\n",
            "LADIES & GENTLEMEN METAL SIGN, JUMBO BAG RED RETROSPOT, JUMBO STORAGE BAG SUKI, JUMBO BAG OWLS, \n",
            "\n",
            "JUMBO BAG PINK VINTAGE PAISLEY, CREAM HEART CARD HOLDER, HEART FILIGREE DOVE  SMALL, PINK HANGING HEART T-LIGHT HOLDER, \n",
            "\n",
            "CREAM HANGING HEART T-LIGHT HOLDER, RED DINER WALL CLOCK, BLUE DINER WALL CLOCK, IVORY DINER WALL CLOCK, \n",
            "\n",
            "ALARM CLOCK BAKELIKE GREEN, ALARM CLOCK BAKELIKE RED , ALARM CLOCK BAKELIKE IVORY, PARTY BUNTING, \n",
            "\n",
            "GIN AND TONIC DIET METAL SIGN, PLEASE ONE PERSON METAL SIGN, WOOD BLACK BOARD ANT WHITE FINISH, FRENCH BLUE METAL DOOR SIGN 6, \n",
            "\n",
            "FRENCH BLUE METAL DOOR SIGN 5, RED KITCHEN SCALES, SET OF 3 CAKE TINS PANTRY DESIGN , IVORY DINER WALL CLOCK, \n",
            "\n",
            "RED DINER WALL CLOCK, HOME BUILDING BLOCK WORD, PARTY BUNTING, JUMBO BAG RED RETROSPOT, \n",
            "\n",
            "ALARM CLOCK BAKELIKE GREEN, ALARM CLOCK BAKELIKE RED , S/4 CACTI CANDLES, RED STRIPE CERAMIC DRAWER KNOB, \n",
            "\n",
            "SET OF 3 CAKE TINS PANTRY DESIGN , CREAM HANGING HEART T-LIGHT HOLDER, PARTY BUNTING, S/4 CACTI CANDLES, \n",
            "\n",
            "RED DINER WALL CLOCK, IVORY DINER WALL CLOCK, ALARM CLOCK BAKELIKE IVORY, BLUE STRIPE CERAMIC DRAWER KNOB, \n",
            "\n",
            "RED KITCHEN SCALES, RETROSPOT LAMP, RECYCLING BAG RETROSPOT , JUMBO SHOPPER VINTAGE RED PAISLEY, \n",
            "\n",
            "JUMBO BAG OWLS, PACK OF 6 BIRDY GIFT TAGS, ASSORTED COLOUR BIRD ORNAMENT, WOOD BLACK BOARD ANT WHITE FINISH, \n",
            "\n",
            "BLACK KITCHEN SCALES, CREAM HEART CARD HOLDER, RETROSPOT LAMP, ALARM CLOCK BAKELIKE ORANGE, \n",
            "\n",
            "ALARM CLOCK BAKELIKE PINK, ALARM CLOCK BAKELIKE RED , SET OF 3 CAKE TINS PANTRY DESIGN , PARTY BUNTING, \n",
            "\n",
            "FRENCH WC SIGN BLUE METAL, HOT BATHS METAL SIGN, LADIES & GENTLEMEN METAL SIGN, PLEASE ONE PERSON METAL SIGN, \n",
            "\n",
            "ALARM CLOCK BAKELIKE GREEN, HOME BUILDING BLOCK WORD, BLUE DINER WALL CLOCK, BLUE STRIPE CERAMIC DRAWER KNOB, \n",
            "\n",
            "BLUE SPOT CERAMIC DRAWER KNOB, RECYCLED ACAPULCO MAT RED, RECYCLED ACAPULCO MAT GREEN, RECYCLED ACAPULCO MAT BLUE, \n",
            "\n",
            "RECYCLED ACAPULCO MAT TURQUOISE, RECYCLED ACAPULCO MAT PINK, RED DINER WALL CLOCK, PACK OF 72 RETROSPOT CAKE CASES, \n",
            "\n",
            "CREAM HANGING HEART T-LIGHT HOLDER, 12 PENCILS TALL TUBE WOODLAND, 12 PENCILS TALL TUBE RED RETROSPOT, WOOD BLACK BOARD ANT WHITE FINISH, \n",
            "\n",
            "WOOD BLACK BOARD ANT WHITE FINISH, RED SPOT CERAMIC DRAWER KNOB, RED STRIPE CERAMIC DRAWER KNOB, FRENCH BLUE METAL DOOR SIGN 7, \n",
            "\n",
            "FRENCH BLUE METAL DOOR SIGN 1, FRENCH BLUE METAL DOOR SIGN 2, FRENCH BLUE METAL DOOR SIGN 3, FRENCH BLUE METAL DOOR SIGN 8, \n",
            "\n",
            "PACK OF 72 RETROSPOT CAKE CASES, IVORY DINER WALL CLOCK, ALARM CLOCK BAKELIKE IVORY, ALARM CLOCK BAKELIKE GREEN, \n",
            "\n",
            "ALARM CLOCK BAKELIKE RED , BLUE DINER WALL CLOCK, GIN AND TONIC DIET METAL SIGN, WOOD BLACK BOARD ANT WHITE FINISH, \n",
            "\n",
            "ROUND CAKE TIN VINTAGE RED, RETROSPOT LARGE MILK JUG, RED RETROSPOT SMALL MILK JUG, RED RETROSPOT BUTTER DISH, \n",
            "\n",
            "RED DINER WALL CLOCK, RECYCLING BAG RETROSPOT , ALARM CLOCK BAKELIKE RED , ASSORTED COLOUR BIRD ORNAMENT, \n",
            "\n",
            "CREAM HANGING HEART T-LIGHT HOLDER, CREAM HEART CARD HOLDER, PLEASE ONE PERSON METAL SIGN, GIN AND TONIC DIET METAL SIGN, \n",
            "\n",
            "HAND OVER THE CHOCOLATE   SIGN , PARTY BUNTING, 3 HOOK HANGER MAGIC GARDEN, HOOK, 1 HANGER ,MAGIC GARDEN, \n",
            "\n",
            "BLUE SPOT CERAMIC DRAWER KNOB, RED STRIPE CERAMIC DRAWER KNOB, ALARM CLOCK BAKELIKE RED , ALARM CLOCK BAKELIKE IVORY, \n",
            "\n",
            "ALARM CLOCK BAKELIKE PINK, IVORY DINER WALL CLOCK, RED DINER WALL CLOCK, BLUE DINER WALL CLOCK, \n",
            "\n",
            "LARGE IVORY HEART WALL ORGANISER, SMALL IVORY HEART WALL ORGANISER, CREAM HANGING HEART T-LIGHT HOLDER, GLASS STAR FROSTED T-LIGHT HOLDER, \n",
            "\n",
            "WOOD BLACK BOARD ANT WHITE FINISH, PARTY BUNTING, RED SPOT CERAMIC DRAWER KNOB, BLUE STRIPE CERAMIC DRAWER KNOB, \n",
            "\n",
            "BLUE SPOT CERAMIC DRAWER KNOB, ASSORTED COLOUR BIRD ORNAMENT, JUMBO BAG APPLES, JUMBO BAG ALPHABET, \n",
            "\n",
            "JUMBO BAG RED RETROSPOT, JUMBO BAG SCANDINAVIAN BLUE PAISLEY, PLEASE ONE PERSON METAL SIGN, POTTERING IN THE SHED METAL SIGN, \n",
            "\n",
            "I'M ON HOLIDAY METAL SIGN, HOT BATHS METAL SIGN, LADIES & GENTLEMEN METAL SIGN, HAND OVER THE CHOCOLATE   SIGN , \n",
            "\n",
            "3 HOOK HANGER MAGIC GARDEN, LUNCH BAG APPLE DESIGN, CHARLOTTE BAG VINTAGE ALPHABET , LUNCH BAG VINTAGE LEAF DESIGN, \n",
            "\n",
            "WHITE MOROCCAN METAL LANTERN, PARTY BUNTING, S/4 CACTI CANDLES, UNION STRIPE WITH FRINGE  HAMMOCK, \n",
            "\n",
            "WHITE WOOD GARDEN PLANT LADDER, SMALL HEART MEASURING SPOONS, JUNGLE POPSICLES ICE LOLLY MOULDS, SET OF 4 PANTRY JELLY MOULDS, \n",
            "\n",
            "PACK OF 72 RETROSPOT CAKE CASES, PACK OF 60 PINK PAISLEY CAKE CASES, SET OF 6 SPICE TINS PANTRY DESIGN, SET OF 3 BUTTERFLY COOKIE CUTTERS, \n",
            "\n",
            "SET OF 20 KIDS COOKIE CUTTERS, SET OF 3 HEART COOKIE CUTTERS, PEG BAG APPLES DESIGN, JAM MAKING SET WITH JARS, \n",
            "\n",
            "12 PENCILS SMALL TUBE RED RETROSPOT, PARTY BUNTING, LUNCH BAG APPLE DESIGN, LUNCH BAG VINTAGE DOILY , \n",
            "\n",
            "PARISIENNE CURIO CABINET, COLOURED GLASS STAR T-LIGHT HOLDER, CREAM HANGING HEART T-LIGHT HOLDER, RED DINER WALL CLOCK, \n",
            "\n",
            "IVORY DINER WALL CLOCK, BLUE DINER WALL CLOCK, ALARM CLOCK BAKELIKE RED , WOOD BLACK BOARD ANT WHITE FINISH, \n",
            "\n",
            "GIN AND TONIC DIET METAL SIGN, DAIRY MAID LARGE MILK JUG, RETROSPOT LARGE MILK JUG, RED RETROSPOT SMALL MILK JUG, \n",
            "\n",
            "LARGE IVORY HEART WALL ORGANISER, SMALL IVORY HEART WALL ORGANISER, RED SPOT CERAMIC DRAWER KNOB, RED STRIPE CERAMIC DRAWER KNOB, \n",
            "\n",
            "LADIES & GENTLEMEN METAL SIGN, FRENCH BLUE METAL DOOR SIGN 1, IVORY KITCHEN SCALES, RED KITCHEN SCALES, \n",
            "\n",
            "IVORY DINER WALL CLOCK, ALARM CLOCK BAKELIKE PINK, FRENCH BLUE METAL DOOR SIGN 4, FRENCH BLUE METAL DOOR SIGN 6, \n",
            "\n",
            "HAND OVER THE CHOCOLATE   SIGN , POTTERING IN THE SHED METAL SIGN, I'M ON HOLIDAY METAL SIGN, PARTY BUNTING, \n",
            "\n",
            "LUNCH BAG VINTAGE DOILY , ALARM CLOCK BAKELIKE IVORY, IVORY KITCHEN SCALES, RED KITCHEN SCALES, \n",
            "\n",
            "ALARM CLOCK BAKELIKE RED , ALARM CLOCK BAKELIKE PINK, LUNCH BAG VINTAGE DOILY , STORAGE TIN VINTAGE DOILY , \n",
            "\n",
            "SET OF 4 KNICK KNACK TINS LEAF, SET OF 3 REGENCY CAKE TINS, SET OF 60 PANTRY DESIGN CAKE CASES , IVORY DINER WALL CLOCK, \n",
            "\n",
            "BLUE DINER WALL CLOCK, RED DINER WALL CLOCK, POTTERING IN THE SHED METAL SIGN, GIN AND TONIC DIET METAL SIGN, \n",
            "\n",
            "I'M ON HOLIDAY METAL SIGN, HOT BATHS METAL SIGN, FRENCH BLUE METAL DOOR SIGN 1, FRENCH BLUE METAL DOOR SIGN 2, \n",
            "\n",
            "FRENCH BLUE METAL DOOR SIGN 5, HAND OVER THE CHOCOLATE   SIGN , RED STRIPE CERAMIC DRAWER KNOB, BLUE STRIPE CERAMIC DRAWER KNOB, \n",
            "\n",
            "BLUE SPOT CERAMIC DRAWER KNOB, CREAM HANGING HEART T-LIGHT HOLDER, LUNCH BAG RED RETROSPOT, CREAM HEART CARD HOLDER, \n",
            "\n",
            "IVORY DINER WALL CLOCK, SET OF 3 CAKE TINS PANTRY DESIGN , ALARM CLOCK BAKELIKE GREEN, TRIPLE PHOTO FRAME CORNICE , \n",
            "\n",
            "FAMILY PHOTO FRAME CORNICE, LUNCH BAG APPLE DESIGN, LUNCH BAG VINTAGE DOILY , SET OF 4 KNICK KNACK TINS DOILY , \n",
            "\n",
            "SET OF 3 REGENCY CAKE TINS, PARTY BUNTING, WOOD BLACK BOARD ANT WHITE FINISH, ASSORTED COLOUR BIRD ORNAMENT, \n",
            "\n",
            "HAND OVER THE CHOCOLATE   SIGN , BLUE DINER WALL CLOCK, RED DINER WALL CLOCK, GIN AND TONIC DIET METAL SIGN, \n",
            "\n",
            "I'M ON HOLIDAY METAL SIGN, UNION STRIPE WITH FRINGE  HAMMOCK, UNION STRIPE WITH FRINGE  HAMMOCK, IVORY DINER WALL CLOCK, \n",
            "\n",
            "ALARM CLOCK BAKELIKE RED , PARTY BUNTING, FAMILY PHOTO FRAME CORNICE, TRIPLE PHOTO FRAME CORNICE , \n",
            "\n",
            "LUNCH BAG RED RETROSPOT, LUNCH BAG WOODLAND, LUNCH BAG SPACEBOY DESIGN , LUNCH BAG SUKI DESIGN , \n",
            "\n",
            "CHARLOTTE BAG APPLES DESIGN, LUNCH BAG VINTAGE LEAF DESIGN, SET OF 4 KNICK KNACK TINS DOILY , PANTRY MAGNETIC  SHOPPING LIST, \n",
            "\n",
            "COLOURED GLASS STAR T-LIGHT HOLDER, RED SPOT CERAMIC DRAWER KNOB, SET OF 3 REGENCY CAKE TINS, CREAM HANGING HEART T-LIGHT HOLDER, \n",
            "\n",
            "JUMBO BAG WOODLAND ANIMALS, JUMBO BAG OWLS, JUMBO BAG PINK VINTAGE PAISLEY, JUMBO BAG VINTAGE DOILY , \n",
            "\n",
            "JUMBO BAG RED RETROSPOT, LUNCH BAG RED RETROSPOT, LUNCH BAG SUKI DESIGN , LUNCH BAG VINTAGE DOILY , \n",
            "\n",
            "LUNCH BAG SPACEBOY DESIGN , DOORMAT HOME SWEET HOME BLUE , DOORMAT WELCOME TO OUR HOME, ANTIQUE SILVER T-LIGHT GLASS, \n",
            "\n",
            "FRENCH WC SIGN BLUE METAL, FRENCH KITCHEN SIGN BLUE METAL, FRENCH LAUNDRY SIGN BLUE METAL, GUMBALL COAT RACK, \n",
            "\n",
            "BISCUIT TIN VINTAGE RED, BISCUIT TIN VINTAGE GREEN, PACK OF 72 RETROSPOT CAKE CASES, SET OF 60 PANTRY DESIGN CAKE CASES , \n",
            "\n",
            "REGENCY MILK JUG PINK , SET OF 4 PANTRY JELLY MOULDS, PINK VINTAGE SPOT BEAKER, BLUE VINTAGE SPOT BEAKER, \n",
            "\n",
            "RED VINTAGE SPOT BEAKER, GREEN VINTAGE SPOT BEAKER, SET OF TEA COFFEE SUGAR TINS PANTRY, RETROSPOT LARGE MILK JUG, \n",
            "\n",
            "RED RETROSPOT SUGAR JAM BOWL, RED RETROSPOT SMALL MILK JUG, RED RETROSPOT BUTTER DISH, SET 3 RETROSPOT TEA,COFFEE,SUGAR, \n",
            "\n",
            "SET/5 RED RETROSPOT LID GLASS BOWLS, MEMO BOARD RETROSPOT  DESIGN, RECYCLING BAG RETROSPOT , PACK OF 6 BIRDY GIFT TAGS, \n",
            "\n",
            "36 PENCILS TUBE RED RETROSPOT, 36 PENCILS TUBE SKULLS, MAKE YOUR OWN PLAYTIME CARD KIT, SMALL RED BABUSHKA NOTEBOOK , \n",
            "\n",
            "FELTCRAFT 6 FLOWER FRIENDS, PINK CREAM FELT CRAFT TRINKET BOX , FELTCRAFT GIRL AMELIE KIT, FELTCRAFT GIRL NICOLE KIT, \n",
            "\n",
            "FELTCRAFT PRINCESS CHARLOTTE DOLL, ABC TREASURE BOOK BOX , TREASURE ISLAND BOOK BOX, BOX OF VINTAGE ALPHABET BLOCKS, \n",
            "\n",
            "PACK OF 6 SANDCASTLE FLAGS ASSORTED, WOODEN CROQUET GARDEN SET, RETROSPOT TEA SET CERAMIC 11 PC , CHILDRENS CUTLERY POLKADOT BLUE, \n",
            "\n",
            "CHILDRENS CUTLERY POLKADOT PINK, CHILDS BREAKFAST SET CIRCUS PARADE, CIRCUS PARADE BABY GIFT SET, DOLLY GIRL BABY GIFT SET, \n",
            "\n",
            "SET 10 NIGHT OWL LIGHTS, ALARM CLOCK BAKELIKE IVORY, ALARM CLOCK BAKELIKE GREEN, ALARM CLOCK BAKELIKE PINK, \n",
            "\n",
            "ALARM CLOCK BAKELIKE RED , IVORY DINER WALL CLOCK, BLUE DINER WALL CLOCK, RED DINER WALL CLOCK, \n",
            "\n",
            "WOOD BLACK BOARD ANT WHITE FINISH, PARTY BUNTING, I'M ON HOLIDAY METAL SIGN, POTTERING IN THE SHED METAL SIGN, \n",
            "\n",
            "HAND OVER THE CHOCOLATE   SIGN , GIN AND TONIC DIET METAL SIGN, Next Day Carriage, BLUE SPOT CERAMIC DRAWER KNOB, \n",
            "\n",
            "RED SPOT CERAMIC DRAWER KNOB, BLUE STRIPE CERAMIC DRAWER KNOB, RED STRIPE CERAMIC DRAWER KNOB, UNION STRIPE WITH FRINGE  HAMMOCK, \n",
            "\n",
            "BLUE DINER WALL CLOCK, IVORY DINER WALL CLOCK, LUNCH BAG SPACEBOY DESIGN , SET OF TEA COFFEE SUGAR TINS PANTRY, \n",
            "\n",
            "BLUE VINTAGE SPOT BEAKER, GREEN VINTAGE SPOT BEAKER, SET OF TEA COFFEE SUGAR TINS PANTRY, RETROSPOT TEA SET CERAMIC 11 PC , \n",
            "\n",
            "PINK VINTAGE PAISLEY PICNIC BAG, SCANDINAVIAN PAISLEY PICNIC BAG, LUNCH BAG WOODLAND, LUNCH BAG SPACEBOY DESIGN , \n",
            "\n",
            "LUNCH BAG SUKI DESIGN , LUNCH BAG VINTAGE DOILY , LUNCH BAG VINTAGE LEAF DESIGN, LUNCH BAG APPLE DESIGN, \n",
            "\n",
            "PINK FLOWER CROCHET FOOD COVER, RED FLOWER CROCHET FOOD COVER, WOOD BLACK BOARD ANT WHITE FINISH, ASSORTED COLOUR BIRD ORNAMENT, \n",
            "\n",
            "36 PENCILS TUBE RED RETROSPOT, 36 PENCILS TUBE SKULLS, SET OF 3 CAKE TINS PANTRY DESIGN , JUMBO BAG OWLS, \n",
            "\n",
            "JUMBO BAG PINK VINTAGE PAISLEY, JUMBO BAG WOODLAND ANIMALS, JUMBO SHOPPER VINTAGE RED PAISLEY, JUMBO BAG PEARS, \n",
            "\n",
            "JUMBO BAG VINTAGE DOILY , JUMBO  BAG BAROQUE BLACK WHITE, UNION STRIPE WITH FRINGE  HAMMOCK, 72 SWEETHEART FAIRY CAKE CASES, \n",
            "\n",
            "UNION STRIPE WITH FRINGE  HAMMOCK, FRENCH BLUE METAL DOOR SIGN 1, FRENCH BLUE METAL DOOR SIGN 2, FRENCH BLUE METAL DOOR SIGN 3, \n",
            "\n",
            "FRENCH BLUE METAL DOOR SIGN 6, SET/5 RED RETROSPOT LID GLASS BOWLS, 3 STRIPEY MICE FELTCRAFT, FELTCRAFT 6 FLOWER FRIENDS, \n",
            "\n",
            "FELTCRAFT DOLL MOLLY, FELTCRAFT DOLL EMILY, FELTCRAFT PRINCESS CHARLOTTE DOLL, FELTCRAFT PRINCESS LOLA DOLL, \n",
            "\n",
            "POTTERING IN THE SHED METAL SIGN, I'M ON HOLIDAY METAL SIGN, GIN AND TONIC DIET METAL SIGN, PACK OF 72 RETROSPOT CAKE CASES, \n",
            "\n",
            "PACK OF 60 PINK PAISLEY CAKE CASES, SET OF 60 PANTRY DESIGN CAKE CASES , RED DINER WALL CLOCK, IVORY DINER WALL CLOCK, \n",
            "\n",
            "BLUE DINER WALL CLOCK, CREAM HANGING HEART T-LIGHT HOLDER, PARTY BUNTING, JUMBO BAG APPLES, \n",
            "\n",
            "JUMBO BAG PEARS, JUMBO BAG WOODLAND ANIMALS, JUMBO BAG OWLS, JUMBO BAG RED RETROSPOT, \n",
            "\n",
            "JUMBO BAG VINTAGE DOILY , LUNCH BAG RED RETROSPOT, LUNCH BAG WOODLAND, LUNCH BAG SPACEBOY DESIGN , \n",
            "\n",
            "LUNCH BAG APPLE DESIGN, LUNCH BAG VINTAGE LEAF DESIGN, LUNCH BAG VINTAGE DOILY , IVORY DINER WALL CLOCK, \n",
            "\n",
            "ALARM CLOCK BAKELIKE GREEN, ALARM CLOCK BAKELIKE RED , ALARM CLOCK BAKELIKE IVORY, ALARM CLOCK BAKELIKE PINK, \n",
            "\n",
            "RED REFECTORY CLOCK , IVORY REFECTORY CLOCK, RED VINTAGE SPOT BEAKER, GREEN VINTAGE SPOT BEAKER, \n",
            "\n",
            "BLUE VINTAGE SPOT BEAKER, PARTY BUNTING, SET OF 3 CAKE TINS PANTRY DESIGN , RED FLOWER CROCHET FOOD COVER, \n",
            "\n",
            "PINK FLOWER CROCHET FOOD COVER, CHERRY CROCHET FOOD COVER, CREAM HEART CARD HOLDER, ASSORTED COLOUR BIRD ORNAMENT, \n",
            "\n",
            "POTTERING IN THE SHED METAL SIGN, WOOD BLACK BOARD ANT WHITE FINISH, ICE CREAM SUNDAE LIP GLOSS, RETROSPOT TEA SET CERAMIC 11 PC , \n",
            "\n",
            "RED RETROSPOT PICNIC BAG, SCANDINAVIAN PAISLEY PICNIC BAG, CLOTHES PEGS RETROSPOT PACK 24 , SET OF 4 KNICK KNACK TINS DOILY , \n",
            "\n",
            "SET OF 4 KNICK KNACK TINS LONDON , TRIPLE PHOTO FRAME CORNICE , FAMILY PHOTO FRAME CORNICE, SET OF 3 REGENCY CAKE TINS, \n",
            "\n",
            "SET OF 60 VINTAGE LEAF CAKE CASES , HANGING QUILTED PATCHWORK APPLES, CREAM HANGING HEART T-LIGHT HOLDER, RED DINER WALL CLOCK, \n",
            "\n",
            "CHILDRENS CUTLERY CIRCUS PARADE, CHILDRENS CUTLERY POLKADOT PINK, SET OF 3 CAKE TINS PANTRY DESIGN , SET OF 4 PANTRY JELLY MOULDS, \n",
            "\n",
            "SET OF 60 PANTRY DESIGN CAKE CASES , SET OF TEA COFFEE SUGAR TINS PANTRY, BLUE SPOT CERAMIC DRAWER KNOB, BLUE STRIPE CERAMIC DRAWER KNOB, \n",
            "\n",
            "SET/5 RED RETROSPOT LID GLASS BOWLS, RETROSPOT TEA SET CERAMIC 11 PC , CHILDS BREAKFAST SET CIRCUS PARADE, FRENCH BLUE METAL DOOR SIGN 1, \n",
            "\n",
            "FRENCH BLUE METAL DOOR SIGN 2, FRENCH BLUE METAL DOOR SIGN 3, FRENCH BLUE METAL DOOR SIGN 4, FRENCH BLUE METAL DOOR SIGN 5, \n",
            "\n",
            "FRENCH BLUE METAL DOOR SIGN 6, FRENCH BLUE METAL DOOR SIGN 7, FRENCH BLUE METAL DOOR SIGN 8, FRENCH BLUE METAL DOOR SIGN 0, \n",
            "\n",
            "TRIPLE PHOTO FRAME CORNICE , LUNCH BAG RED RETROSPOT, LUNCH BAG WOODLAND, LUNCH BAG APPLE DESIGN, \n",
            "\n",
            "LUNCH BAG VINTAGE DOILY , 36 PENCILS TUBE RED RETROSPOT, 36 PENCILS TUBE WOODLAND, SET/3 RED GINGHAM ROSE STORAGE BOX, \n",
            "\n",
            "CIRCUS PARADE BABY GIFT SET, BABUSHKA LIGHTS STRING OF 10, SET 10 NIGHT OWL LIGHTS, SET OF 10 LED DOLLY LIGHTS, \n",
            "\n",
            "BLUE DINER WALL CLOCK, TRIPLE PHOTO FRAME CORNICE , ALARM CLOCK BAKELIKE RED , PLEASE ONE PERSON METAL SIGN, \n",
            "\n",
            "HOT BATHS METAL SIGN, LADIES & GENTLEMEN METAL SIGN, HAND OVER THE CHOCOLATE   SIGN , SET OF 3 CAKE TINS PANTRY DESIGN , \n",
            "\n",
            "SET OF 4 KNICK KNACK TINS DOILY , SET OF 3 REGENCY CAKE TINS, SET OF TEA COFFEE SUGAR TINS PANTRY, CREAM HANGING HEART T-LIGHT HOLDER, \n",
            "\n",
            "TRIPLE PHOTO FRAME CORNICE , FAMILY PHOTO FRAME CORNICE, PHOTO FRAME LINEN AND LACE LARGE, DOORMAT WELCOME TO OUR HOME, \n",
            "\n",
            "PARTY BUNTING, RED SPOT CERAMIC DRAWER KNOB, BLUE STRIPE CERAMIC DRAWER KNOB, BLUE SPOT CERAMIC DRAWER KNOB, \n",
            "\n",
            "JUMBO BAG WOODLAND ANIMALS, JUMBO BAG PINK VINTAGE PAISLEY, JUMBO BAG OWLS, JUMBO SHOPPER VINTAGE RED PAISLEY, \n",
            "\n",
            "JUMBO BAG PEARS, JUMBO BAG VINTAGE DOILY , JUMBO BAG APPLES, JUMBO BAG RED RETROSPOT, \n",
            "\n",
            "LUNCH BAG CARS BLUE, LUNCH BAG RED RETROSPOT, LUNCH BAG APPLE DESIGN, LUNCH BAG VINTAGE DOILY , \n",
            "\n",
            "LUNCH BAG VINTAGE LEAF DESIGN, CHILDRENS TOY COOKING UTENSIL SET, RETROSPOT TEA SET CERAMIC 11 PC , 3 STRIPEY MICE FELTCRAFT, \n",
            "\n",
            "FELTCRAFT BUTTERFLY HEARTS, FELTCRAFT GIRL AMELIE KIT, FELTCRAFT PRINCESS LOLA DOLL, PINK CREAM FELT CRAFT TRINKET BOX , \n",
            "\n",
            "FELTCRAFT 6 FLOWER FRIENDS, TRADITIONAL KNITTING NANCY, IVORY DINER WALL CLOCK, ALARM CLOCK BAKELIKE PINK, \n",
            "\n",
            "BLUE DINER WALL CLOCK, ALARM CLOCK BAKELIKE GREEN, ALARM CLOCK BAKELIKE IVORY, RED DINER WALL CLOCK, \n",
            "\n",
            "I'M ON HOLIDAY METAL SIGN, FAMILY PHOTO FRAME CORNICE, TRIPLE PHOTO FRAME CORNICE , I'M ON HOLIDAY METAL SIGN, \n",
            "\n",
            "PHOTO FRAME LINEN AND LACE LARGE, CHILDRENS TOY COOKING UTENSIL SET, WALL ART ONLY ONE PERSON , LUNCH BAG  BLACK SKULL., \n",
            "\n",
            "LUNCH BAG VINTAGE LEAF DESIGN, LUNCH BAG VINTAGE DOILY , LUNCH BAG SPACEBOY DESIGN , JUMBO BAG PINK VINTAGE PAISLEY, \n",
            "\n",
            "JUMBO BAG SCANDINAVIAN BLUE PAISLEY, JUMBO BAG VINTAGE DOILY , JUMBO BAG RED RETROSPOT, JUMBO BAG VINTAGE LEAF, \n",
            "\n",
            "IVORY DINER WALL CLOCK, BLUE DINER WALL CLOCK, RED DINER WALL CLOCK, ALARM CLOCK BAKELIKE GREEN, \n",
            "\n",
            "ALARM CLOCK BAKELIKE IVORY, GIN AND TONIC DIET METAL SIGN, BLUE STRIPE CERAMIC DRAWER KNOB, BLUE SPOT CERAMIC DRAWER KNOB, \n",
            "\n",
            "RED SPOT CERAMIC DRAWER KNOB, WOOD BLACK BOARD ANT WHITE FINISH, ASSORTED COLOUR BIRD ORNAMENT, HAND WARMER UNION JACK, \n",
            "\n",
            "HAND WARMER OWL DESIGN, HAND WARMER BIRD DESIGN, HAND WARMER RED LOVE HEART, SET OF 60 VINTAGE LEAF CAKE CASES , \n",
            "\n",
            "SET OF 3 CAKE TINS PANTRY DESIGN , CHICK GREY HOT WATER BOTTLE, LOVE HOT WATER BOTTLE, PACK OF 6 BIRDY GIFT TAGS, \n",
            "\n",
            "SET 36 COLOURING PENCILS DOILY, 36 PENCILS TUBE SKULLS, SET OF 3 NOTEBOOKS IN PARCEL, TRADITIONAL KNITTING NANCY, \n",
            "\n",
            "TREASURE TIN BUFFALO BILL , TRADITIONAL NAUGHTS & CROSSES, TRADITIONAL PICK UP STICKS GAME , REVOLVER WOODEN RULER , \n",
            "\n",
            "GIRAFFE WOODEN RULER, RETROSPOT TEA SET CERAMIC 11 PC , PLASTERS IN TIN SKULLS, CHILDRENS CUTLERY POLKADOT BLUE, \n",
            "\n",
            "CHILDRENS CUTLERY POLKADOT PINK, SET 36 COLOUR PENCILS SPACEBOY , PARTY BUNTING, GUMBALL COAT RACK, \n",
            "\n",
            "PLAYING CARDS KEEP CALM & CARRY ON, S/4 CACTI CANDLES, CREAM HANGING HEART T-LIGHT HOLDER, 6 RIBBONS ELEGANT CHRISTMAS , \n",
            "\n",
            "TRADITIONAL CHRISTMAS RIBBONS, GREEN CHRISTMAS TREE CARD HOLDER, 60 CAKE CASES VINTAGE CHRISTMAS, FELTCRAFT CHRISTMAS FAIRY, \n",
            "\n",
            "CHRISTMAS CRAFT TREE TOP ANGEL, JUMBO BAG VINTAGE CHRISTMAS , SET OF 6 NATIVITY MAGNETS , IVORY WICKER HEART MEDIUM, \n",
            "\n",
            "CHRISTMAS CRAFT LITTLE FRIENDS, STAR T-LIGHT HOLDER WILLIE WINKIE, TRIPLE PHOTO FRAME CORNICE , MULTI COLOUR SILVER T-LIGHT HOLDER, \n",
            "\n",
            "WHITE MOROCCAN METAL LANTERN, ANTIQUE SILVER T-LIGHT GLASS, FRENCH BLUE METAL DOOR SIGN 1, FRENCH BLUE METAL DOOR SIGN 4, \n",
            "\n",
            "FRENCH BLUE METAL DOOR SIGN 5, FRENCH BLUE METAL DOOR SIGN 6, RED STRIPE CERAMIC DRAWER KNOB, SET OF 60 PANTRY DESIGN CAKE CASES , \n",
            "\n",
            "TRADITIONAL PICK UP STICKS GAME , TRADITIONAL NAUGHTS & CROSSES, 60 CAKE CASES VINTAGE CHRISTMAS, WHITE SKULL HOT WATER BOTTLE , \n",
            "\n",
            "RED WOOLLY HOTTIE WHITE HEART., LOVE HOT WATER BOTTLE, HAND WARMER UNION JACK, HAND WARMER OWL DESIGN, \n",
            "\n",
            "HAND WARMER BIRD DESIGN, HAND WARMER RED LOVE HEART, ALARM CLOCK BAKELIKE PINK, ALARM CLOCK BAKELIKE IVORY, \n",
            "\n",
            "ALARM CLOCK BAKELIKE GREEN, ALARM CLOCK BAKELIKE RED , OPEN CLOSED METAL SIGN, HOT BATHS METAL SIGN, \n",
            "\n",
            "LADIES & GENTLEMEN METAL SIGN, RETROSPOT TEA SET CERAMIC 11 PC , TREASURE TIN BUFFALO BILL , 3 STRIPEY MICE FELTCRAFT, \n",
            "\n",
            "SET 36 COLOURING PENCILS DOILY, SET OF 4 KNICK KNACK TINS LONDON , ANTIQUE SILVER T-LIGHT GLASS, CREAM HANGING HEART T-LIGHT HOLDER, \n",
            "\n",
            "CHILDS BREAKFAST SET SPACEBOY , TREASURE TIN GYMKHANA DESIGN, CHILDS BREAKFAST SET CIRCUS PARADE, PLASTERS IN TIN CIRCUS PARADE , \n",
            "\n",
            "FELTCRAFT DOLL ROSIE, FELTCRAFT DOLL MOLLY, FELTCRAFT PRINCESS CHARLOTTE DOLL, FELTCRAFT PRINCESS LOLA DOLL, \n",
            "\n",
            "SET OF 4 PANTRY JELLY MOULDS, HOT WATER BOTTLE KEEP CALM, RED DINER WALL CLOCK, BLUE DINER WALL CLOCK, \n",
            "\n",
            "MEMO BOARD COTTAGE DESIGN, MEMO BOARD RETROSPOT  DESIGN, SET OF 6 SOLDIER SKITTLES, TRADITIONAL KNITTING NANCY, \n",
            "\n",
            "HAPPY STENCIL CRAFT, MONSTERS STENCIL CRAFT, SET 36 COLOUR PENCILS DOLLY GIRL, 36 PENCILS TUBE SKULLS, \n",
            "\n",
            "LUNCH BAG CARS BLUE, LUNCH BAG RED VINTAGE DOILY, LUNCH BAG VINTAGE DOILY , LUNCH BAG SPACEBOY DESIGN , \n",
            "\n",
            "VINTAGE DOILY JUMBO BAG RED , JUMBO BAG PEARS, JUMBO BAG PAISLEY PARK, JUMBO BAG RED RETROSPOT, \n",
            "\n",
            "JUMBO BAG 50'S CHRISTMAS , JUMBO BAG VINTAGE DOILY , CHRISTMAS CRAFT LITTLE FRIENDS, CHRISTMAS CRAFT TREE TOP ANGEL, \n",
            "\n",
            "CHRISTMAS CRAFT WHITE FAIRY , FELTCRAFT CHRISTMAS FAIRY, PAPER CHAIN KIT 50'S CHRISTMAS , 36 PENCILS TUBE RED RETROSPOT, \n",
            "\n",
            "SET 36 COLOURING PENCILS DOILY, WOODEN SCHOOL COLOURING SET, LARGE YELLOW BABUSHKA NOTEBOOK , LARGE RED BABUSHKA NOTEBOOK , \n",
            "\n",
            "TRADITIONAL PICK UP STICKS GAME , SET OF 3 CAKE TINS PANTRY DESIGN , SET OF 3 REGENCY CAKE TINS, TREASURE TIN GYMKHANA DESIGN, \n",
            "\n",
            "SET 10 NIGHT OWL LIGHTS, MEMO BOARD RETROSPOT  DESIGN, CHICK GREY HOT WATER BOTTLE, FAWN BLUE HOT WATER BOTTLE, \n",
            "\n",
            "LOVE HOT WATER BOTTLE, PAPER CHAIN KIT 50'S CHRISTMAS , 6 RIBBONS ELEGANT CHRISTMAS , CREAM HEART CARD HOLDER, \n",
            "\n",
            "RIBBON REEL SNOWY VILLAGE, RIBBON REEL CHRISTMAS PRESENT , TRADITIONAL CHRISTMAS RIBBONS, GIN AND TONIC DIET METAL SIGN, \n",
            "\n",
            "PLEASE ONE PERSON METAL SIGN, 6 RIBBONS ELEGANT CHRISTMAS , PAPER CHAIN KIT 50'S CHRISTMAS , IVORY DINER WALL CLOCK, \n",
            "\n",
            "BLUE DINER WALL CLOCK, SEWING BOX RETROSPOT DESIGN , HAND WARMER UNION JACK, LARGE YELLOW BABUSHKA NOTEBOOK , \n",
            "\n",
            "LARGE RED BABUSHKA NOTEBOOK , HAND WARMER SCOTTY DOG DESIGN, HAND WARMER BIRD DESIGN, LOVE HOT WATER BOTTLE, \n",
            "\n",
            "HAND WARMER RED LOVE HEART, CLASSIC CHROME BICYCLE BELL , SNACK TRAY RED VINTAGE DOILY, RED WOOLLY HOTTIE WHITE HEART., \n",
            "\n",
            "CREAM HANGING HEART T-LIGHT HOLDER, \n",
            "\n",
            " Produtos sugeridos: \n",
            "\n",
            "BATHROOM SCALES RUBBER DUCKS | Taxa de similiaridade =  91.4655327796936GRASS HOPPER WOODEN WALL CLOCK  | Taxa de similiaridade =  89.44237232208252\n",
            "\n",
            "RED PEONY CUSHION COVER  | Taxa de similiaridade =  88.44679594039917SET OF 3 BLACK FLYING DUCKS | Taxa de similiaridade =  88.34348917007446\n",
            "\n",
            "PINK BUTTERFLY CUSHION COVER | Taxa de similiaridade =  87.84890174865723, GREEN PEONY CUSHION COVER | Taxa de similiaridade =  87.80565857887268\n",
            "\n",
            "SET/4 WHITE RETRO STORAGE CUBES  | Taxa de similiaridade =  87.34768033027649PINK HAWAIIAN PICNIC HAMPER FOR 2 | Taxa de similiaridade =  86.66797876358032\n",
            "\n",
            "FROSTED WHITE BASE  | Taxa de similiaridade =  85.62009334564209, BLACK DINER WALL CLOCK | Taxa de similiaridade =  85.50248146057129, \n",
            "\n",
            "\n",
            " \n",
            "\n"
          ],
          "name": "stdout"
        },
        {
          "output_type": "stream",
          "text": [
            "/usr/local/lib/python3.6/dist-packages/ipykernel_launcher.py:9: DeprecationWarning: Call to deprecated `__getitem__` (Method will be removed in 4.0.0, use self.wv.__getitem__() instead).\n",
            "  if __name__ == '__main__':\n",
            "/usr/local/lib/python3.6/dist-packages/ipykernel_launcher.py:18: DeprecationWarning: Call to deprecated `similar_by_vector` (Method will be removed in 4.0.0, use self.wv.similar_by_vector() instead).\n",
            "/usr/local/lib/python3.6/dist-packages/gensim/matutils.py:737: FutureWarning: Conversion of the second argument of issubdtype from `int` to `np.signedinteger` is deprecated. In future, it will be treated as `np.int64 == np.dtype(int).type`.\n",
            "  if np.issubdtype(vec.dtype, np.int):\n"
          ],
          "name": "stderr"
        }
      ]
    },
    {
      "cell_type": "code",
      "metadata": {
        "id": "A83-VCQ0Gbkk",
        "outputId": "0d5b39f8-ca5e-4cbc-bba3-e7d92ba38b77",
        "colab": {
          "base_uri": "https://localhost:8080/",
          "height": 411
        }
      },
      "source": [
        "idx = np.random.randint(1, high = len(orders_val))\n",
        "search_by_list(text_word2vec, orders_val[idx],products_dict)"
      ],
      "execution_count": null,
      "outputs": [
        {
          "output_type": "stream",
          "text": [
            "Produtos da lista: \n",
            "\n",
            "SAVE THE PLANET MUG, \n",
            "\n",
            " Produtos sugeridos: \n",
            "\n",
            "HOME SWEET HOME MUG | Taxa de similiaridade =  97.78735637664795, VINTAGE BILLBOARD LOVE/HATE MUG | Taxa de similiaridade =  95.74099779129028, \n",
            "\n",
            "KINGS CHOICE MUG | Taxa de similiaridade =  95.25653123855591, GLAMOROUS  MUG | Taxa de similiaridade =  95.09186744689941, \n",
            "\n",
            "RETRO COFFEE MUGS ASSORTED | Taxa de similiaridade =  94.97313499450684, GIN AND TONIC MUG | Taxa de similiaridade =  93.26659440994263, \n",
            "\n",
            "POTTERING MUG | Taxa de similiaridade =  92.06171035766602, VINTAGE BILLBOARD DRINK ME MUG | Taxa de similiaridade =  92.06134080886841, \n",
            "\n",
            "IF YOU CAN'T STAND THE HEAT MUG | Taxa de similiaridade =  90.52301049232483, \n",
            " \n",
            "\n"
          ],
          "name": "stdout"
        },
        {
          "output_type": "stream",
          "text": [
            "/usr/local/lib/python3.6/dist-packages/ipykernel_launcher.py:9: DeprecationWarning: Call to deprecated `__getitem__` (Method will be removed in 4.0.0, use self.wv.__getitem__() instead).\n",
            "  if __name__ == '__main__':\n",
            "/usr/local/lib/python3.6/dist-packages/ipykernel_launcher.py:18: DeprecationWarning: Call to deprecated `similar_by_vector` (Method will be removed in 4.0.0, use self.wv.similar_by_vector() instead).\n",
            "/usr/local/lib/python3.6/dist-packages/gensim/matutils.py:737: FutureWarning: Conversion of the second argument of issubdtype from `int` to `np.signedinteger` is deprecated. In future, it will be treated as `np.int64 == np.dtype(int).type`.\n",
            "  if np.issubdtype(vec.dtype, np.int):\n"
          ],
          "name": "stderr"
        }
      ]
    },
    {
      "cell_type": "code",
      "metadata": {
        "id": "P4Ud_wXRGcAK",
        "outputId": "42395621-2b74-4906-daba-2edbb31ea4ca",
        "colab": {
          "base_uri": "https://localhost:8080/",
          "height": 1000
        }
      },
      "source": [
        "idx = np.random.randint(1, high = len(orders_val))\n",
        "search_by_list(text_word2vec, orders_val[idx],products_dict)"
      ],
      "execution_count": null,
      "outputs": [
        {
          "output_type": "stream",
          "text": [
            "Produtos da lista: \n",
            "\n",
            "JUMBO  BAG BAROQUE BLACK WHITE, JUMBO BAG STRAWBERRY, JUMBO SHOPPER VINTAGE RED PAISLEY, JUMBO BAG PINK VINTAGE PAISLEY, \n",
            "\n",
            "JUMBO BAG SCANDINAVIAN BLUE PAISLEY, JUMBO BAG VINTAGE DOILY , JUMBO BAG APPLES, GIN AND TONIC DIET METAL SIGN, \n",
            "\n",
            "MINI JIGSAW DOLLY GIRL, MINI JIGSAW BUNNIES, MINI JIGSAW LEAP FROG, MINI JIGSAW SPACEBOY, \n",
            "\n",
            "MINI JIGSAW GO TO THE FAIR, MAGIC DRAWING SLATE DOLLY GIRL , MAGIC DRAWING SLATE SPACEBOY , MAGIC DRAWING SLATE BAKE A CAKE , \n",
            "\n",
            "EDWARDIAN PARASOL NATURAL, EDWARDIAN PARASOL RED, SET OF 6 SOLDIER SKITTLES, 4 TRADITIONAL SPINNING TOPS, \n",
            "\n",
            "SMALL HEART MEASURING SPOONS, 3D SHEET OF CAT STICKERS, 3D SHEET OF DOG STICKERS, ZINC METAL HEART DECORATION, \n",
            "\n",
            "PARTY BUNTING, SPOTTY BUNTING, FIVE CATS HANGING DECORATION, BIRDS MOBILE VINTAGE DESIGN, \n",
            "\n",
            "DOLLY GIRL BABY GIFT SET,  SPACEBOY BABY GIFT SET, GIRLS VINTAGE TIN SEASIDE BUCKET, BOYS VINTAGE TIN SEASIDE BUCKET, \n",
            "\n",
            "SET OF 4 KNICK KNACK TINS DOILY , TREASURE TIN BUFFALO BILL , ASSORTED COLOUR BIRD ORNAMENT, PAINTED METAL PEARS ASSORTED, \n",
            "\n",
            "BULL DOG BOTTLE OPENER, LARGE ROUND WICKER PLATTER , BOHEMIAN COLLAGE STATIONERY SET, VINTAGE PAISLEY STATIONERY SET, \n",
            "\n",
            "FLORAL FOLK STATIONERY SET, COLOURING PENCILS BROWN TUBE, PHOTO CUBE, SMALL FOLDING SCISSOR(POINTED EDGE), \n",
            "\n",
            "WELCOME  WOODEN BLOCK LETTERS, HEADS AND TAILS SPORTING FUN, VINTAGE HEADS AND TAILS CARD GAME , VINTAGE  2 METRE FOLDING RULER, \n",
            "\n",
            "VINTAGE SNAP CARDS, LARGE RED RETROSPOT WINDMILL, RIBBON REEL POLKADOTS , PSYCHEDELIC TILE HOOK, \n",
            "\n",
            "PAINT YOUR OWN CANVAS SET, ASSTD FRUIT+FLOWERS FRIDGE MAGNETS, FRIDGE MAGNETS US DINER ASSORTED, FRIDGE MAGNETS LES ENFANTS ASSORTED, \n",
            "\n",
            "CLOTHES PEGS RETROSPOT PACK 24 , TREASURE TIN GYMKHANA DESIGN, ENVELOPE 50 BLOSSOM IMAGES, RIBBON REEL STRIPES DESIGN , \n",
            "\n",
            "RIBBON REEL LACE DESIGN , 6 RIBBONS RUSTIC CHARM, GIN AND TONIC MUG, NAMASTE SWAGAT INCENSE, \n",
            "\n",
            "SET OF 3 REGENCY CAKE TINS, SANDALWOOD FAN, VINTAGE BILLBOARD LOVE/HATE MUG, WHITE WOOD GARDEN PLANT LADDER, \n",
            "\n",
            "REX CASH+CARRY JUMBO SHOPPER, S/2 ZINC HEART DESIGN PLANTERS, EDWARDIAN PARASOL NATURAL, EDWARDIAN PARASOL BLACK, \n",
            "\n",
            "EDWARDIAN PARASOL NATURAL, EDWARDIAN PARASOL RED, WHITE WOOD GARDEN PLANT LADDER, CLASSIC GLASS COOKIE JAR, \n",
            "\n",
            "3D SHEET OF DOG STICKERS, 3D SHEET OF CAT STICKERS, FOLK ART METAL HEART T-LIGHT HOLDER, SET OF 20 KIDS COOKIE CUTTERS, \n",
            "\n",
            "RAIN PONCHO RETROSPOT, JAZZ HEARTS PURSE NOTEBOOK, JAZZ HEARTS ADDRESS BOOK, KIDS RAIN MAC BLUE, \n",
            "\n",
            "KIDS RAIN MAC PINK, 3 TRADITIONAl BISCUIT CUTTERS  SET, SET OF 3 HEART COOKIE CUTTERS, SET OF 3 BUTTERFLY COOKIE CUTTERS, \n",
            "\n",
            "MADRAS NOTEBOOK MEDIUM, TEA TIME OVEN GLOVE, SCOTTIE DOGS BABY BIB, GINGERBREAD MAN COOKIE CUTTER, \n",
            "\n",
            "JUMBO BAG ALPHABET, JUMBO BAG DOLLY GIRL DESIGN, JUMBO BAG SPACEBOY DESIGN, GLAMOROUS  MUG, \n",
            "\n",
            "VINTAGE BILLBOARD MUG , VINTAGE BILLBOARD DRINK ME MUG, SMALL MARSHMALLOWS PINK BOWL, SMALL DOLLY MIX DESIGN ORANGE BOWL, \n",
            "\n",
            "SMALL CHOCOLATES PINK BOWL, BISCUITS SMALL BOWL LIGHT BLUE, REGENCY CAKESTAND 3 TIER, SWEETHEART 3 TIER CAKE STAND , \n",
            "\n",
            "DOLLY GIRL BABY GIFT SET, EDWARDIAN PARASOL RED, EDWARDIAN PARASOL BLACK, JUMBO BAG PAISLEY PARK, \n",
            "\n",
            "VINTAGE DOILY JUMBO BAG RED , SCANDINAVIAN PAISLEY PICNIC BAG, CHILDS BREAKFAST SET DOLLY GIRL , BAKING SET 9 PIECE RETROSPOT , \n",
            "\n",
            "BAKING SET SPACEBOY DESIGN, SET/5 RED RETROSPOT LID GLASS BOWLS, ENGLISH ROSE GARDEN SECATEURS, 3D SHEET OF DOG STICKERS, \n",
            "\n",
            "3D SHEET OF CAT STICKERS, GIN AND TONIC DIET METAL SIGN, SET OF 20 KIDS COOKIE CUTTERS, SET 36 COLOUR PENCILS SPACEBOY , \n",
            "\n",
            "PHOTO CUBE, LUNCH BAG SPACEBOY DESIGN , ENVELOPE 50 BLOSSOM IMAGES, \n",
            "\n",
            " Produtos sugeridos: \n",
            "\n",
            "RABBIT  DESIGN  COTTON TOTE BAG | Taxa de similiaridade =  94.80055570602417, BLUE HOLE PUNCH | Taxa de similiaridade =  94.50657367706299\n",
            "\n",
            "BLUE SAVANNAH PICNIC HAMPER FOR 2 | Taxa de similiaridade =  94.35949921607971SKULLS STORAGE BOX LARGE | Taxa de similiaridade =  94.10642385482788, \n",
            "\n",
            "WOODLAND STORAGE BOX SMALL | Taxa de similiaridade =  93.97231340408325, FLORAL PINK MONSTER | Taxa de similiaridade =  93.76391172409058, \n",
            "\n",
            "LOLITA  DESIGN  COTTON TOTE BAG | Taxa de similiaridade =  93.73028874397278, BLUE GINGHAM ROSE CUSHION COVER | Taxa de similiaridade =  93.62878799438477, \n",
            "\n",
            "PAPERWEIGHT CHILDHOOD MEMORIES | Taxa de similiaridade =  93.54449510574341, HAWAIIAN GRASS SKIRT  | Taxa de similiaridade =  93.00674200057983, \n",
            "\n",
            "\n",
            " \n",
            "\n"
          ],
          "name": "stdout"
        },
        {
          "output_type": "stream",
          "text": [
            "/usr/local/lib/python3.6/dist-packages/ipykernel_launcher.py:9: DeprecationWarning: Call to deprecated `__getitem__` (Method will be removed in 4.0.0, use self.wv.__getitem__() instead).\n",
            "  if __name__ == '__main__':\n",
            "/usr/local/lib/python3.6/dist-packages/ipykernel_launcher.py:18: DeprecationWarning: Call to deprecated `similar_by_vector` (Method will be removed in 4.0.0, use self.wv.similar_by_vector() instead).\n",
            "/usr/local/lib/python3.6/dist-packages/gensim/matutils.py:737: FutureWarning: Conversion of the second argument of issubdtype from `int` to `np.signedinteger` is deprecated. In future, it will be treated as `np.int64 == np.dtype(int).type`.\n",
            "  if np.issubdtype(vec.dtype, np.int):\n"
          ],
          "name": "stderr"
        }
      ]
    },
    {
      "cell_type": "markdown",
      "metadata": {
        "id": "gbrSXmrdGjV-"
      },
      "source": [
        "# Testando a acertividade nas indicações do modello\n"
      ]
    },
    {
      "cell_type": "code",
      "metadata": {
        "id": "qKsbUGssGqAc"
      },
      "source": [
        "def search_by_prod(model, order_list ,products_dict):\n",
        "  mean_vector =  np.zeros((model.vector_size))\n",
        "  \n",
        "  acc = dict()\n",
        "  for product in order_list:\n",
        "    if product in model.wv:\n",
        "      find_prod = text_word2vec.wv.similar_by_word(product)\n",
        "      test_list = order_list\n",
        "      test_list.remove(product)\n",
        "      k = np.array(test_list)\n",
        "      try:\n",
        "        print(products_dict[product],'\\n')\n",
        "      except:\n",
        "        print(products_dict[int(product)],'\\n')\n",
        "      codes, similiar_val = list(zip(*find_prod))\n",
        "      if product in codes:\n",
        "        acc[product] = (sum((k==codes).astype(float)))\n",
        "      else:\n",
        "        acc[product] = 0\n",
        "      try:\n",
        "        print((k==codes),'\\n')\n",
        "      except:\n",
        "        pass\n",
        "  return acc"
      ],
      "execution_count": null,
      "outputs": []
    }
  ]
}