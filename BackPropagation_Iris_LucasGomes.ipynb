{
  "nbformat": 4,
  "nbformat_minor": 0,
  "metadata": {
    "colab": {
      "name": "BackPropagation_Iris_LucasGomes.ipynb",
      "provenance": []
    },
    "kernelspec": {
      "name": "python3",
      "display_name": "Python 3"
    }
  },
  "cells": [
    {
      "cell_type": "markdown",
      "metadata": {
        "id": "5SxyZu2W3CUE"
      },
      "source": [
        "Começamos removendo o arquivo `Iris.csv`, se ele já existe.\n"
      ]
    },
    {
      "cell_type": "code",
      "metadata": {
        "id": "6I9mhp-y2M1g"
      },
      "source": [
        "!rm Iris.csv"
      ],
      "execution_count": null,
      "outputs": []
    },
    {
      "cell_type": "markdown",
      "metadata": {
        "id": "ybCx9aVQaF3A"
      },
      "source": [
        "# Para rodar o notebook, primeiramente baixe o [dataset](https://sourceforge.net/projects/irisdss/postdownload), que irá conter o arquivo ***iris.csv***.\n",
        "\n",
        "\n",
        "\n",
        "\n"
      ]
    },
    {
      "cell_type": "markdown",
      "metadata": {
        "id": "a7WVykQC3Mdp"
      },
      "source": [
        "Aqui criamos uma interface para upload do arquivo `Iris.csv` (assumimos que o arquivo vai ser enviado exatamente com esse nome)"
      ]
    },
    {
      "cell_type": "code",
      "metadata": {
        "id": "SvTqZKzDnJln",
        "outputId": "73f3e308-b67e-4db7-a270-90191fb07a4f",
        "colab": {
          "resources": {
            "http://localhost:8080/nbextensions/google.colab/files.js": {
              "data": "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",
              "ok": true,
              "headers": [
                [
                  "content-type",
                  "application/javascript"
                ]
              ],
              "status": 200,
              "status_text": ""
            }
          },
          "base_uri": "https://localhost:8080/",
          "height": 74
        }
      },
      "source": [
        "from google.colab import files\n",
        "import io\n",
        "\n",
        "# A variável upload é um dicionário com todos\n",
        "# arquivos que foram enviados\n",
        "uploaded = files.upload()\n",
        "\n",
        "# A variável f é o arquivo de nome Iris.csv\n",
        "# buscado no dicionário acima.\n",
        "f = io.BytesIO(uploaded['Iris.csv'])"
      ],
      "execution_count": null,
      "outputs": [
        {
          "output_type": "display_data",
          "data": {
            "text/html": [
              "\n",
              "     <input type=\"file\" id=\"files-8deb4da0-39d7-4bad-abfb-81d75a5c79c3\" name=\"files[]\" multiple disabled />\n",
              "     <output id=\"result-8deb4da0-39d7-4bad-abfb-81d75a5c79c3\">\n",
              "      Upload widget is only available when the cell has been executed in the\n",
              "      current browser session. Please rerun this cell to enable.\n",
              "      </output>\n",
              "      <script src=\"/nbextensions/google.colab/files.js\"></script> "
            ],
            "text/plain": [
              "<IPython.core.display.HTML object>"
            ]
          },
          "metadata": {
            "tags": []
          }
        },
        {
          "output_type": "stream",
          "text": [
            "Saving Iris.csv to Iris.csv\n"
          ],
          "name": "stdout"
        }
      ]
    },
    {
      "cell_type": "markdown",
      "metadata": {
        "id": "WLJhW3bl3x6b"
      },
      "source": [
        "Nas linhas abaixo zeramos o cursor do arquivo e lemos todas as linhas do arquivo em `lines`."
      ]
    },
    {
      "cell_type": "code",
      "metadata": {
        "id": "f7-KRHha1kLC"
      },
      "source": [
        "# Zeramos o cursor para garantir que a leitura\n",
        "# do arquivo inicie do início\n",
        "f.seek(0)\n",
        "\n",
        "# A variável lines é uma lista que contém as strings\n",
        "# que representam cada linha do arquivo lido.\n",
        "lines = f.readlines()"
      ],
      "execution_count": null,
      "outputs": []
    },
    {
      "cell_type": "markdown",
      "metadata": {
        "id": "vLJHSh2i4MUf"
      },
      "source": [
        "Abaixo criamos as matrizes dos dados de entrada e saída correspondentes, vazias mas já com as dimensões corretas."
      ]
    },
    {
      "cell_type": "code",
      "metadata": {
        "id": "l2aAziOo7kA-"
      },
      "source": [
        "import numpy as np\n",
        "\n",
        "# Aqui criamos as matrizes de entradas e saídas correspondentes\n",
        "# ainda vazias\n",
        "X = np.zeros((len(lines)-1,4)) # 4 entradas\n",
        "Y = np.zeros((len(lines)-1,3)) # 3 saídas (one-hot encoding)\n",
        "\n",
        "# Teremos 3 categorias. O vetor abaixo lista as strings\n",
        "# que representam as categorias possíveis\n",
        "cat = np.array(['Iris-setosa','Iris-versicolor','Iris-virginica'])"
      ],
      "execution_count": null,
      "outputs": []
    },
    {
      "cell_type": "markdown",
      "metadata": {
        "id": "yqtS_fdF4mMR"
      },
      "source": [
        "No laço abaixo populamos as matrizes `X` e `Y`."
      ]
    },
    {
      "cell_type": "code",
      "metadata": {
        "id": "zvBA3O9116lg"
      },
      "source": [
        "# Para cada linha do arquivo, exceto\n",
        "# a primeira linha que é o cabeçalho\n",
        "for i, line in enumerate(lines[1:]):\n",
        "\n",
        "  # Aqui decodificamos a linha para transformar\n",
        "  # de binário para caracteres ascii, e descartamos\n",
        "  # o último caractere que representa uma nova linha\n",
        "  s = line.decode()[:-1]\n",
        "\n",
        "  # Aqui separamos os dados por vírgulas,\n",
        "  # descartando o primeiro valor que é o id\n",
        "  # pois usaremos i do laço como id.\n",
        "  _,sl,sw,pl,pw,sp = s.split(',')\n",
        "\n",
        "  # Transformamos as strings que representam\n",
        "  # as dimensões de sépala e pétala para ponto\n",
        "  # flutuante.\n",
        "  sl = float(sl)\n",
        "  sw = float(sw)\n",
        "  pl = float(pl)\n",
        "  pw = float(pw)\n",
        "  \n",
        "  # Aqui populamos as matrizes X e Y com os dados\n",
        "  # coletados.\n",
        "  X[i:] = np.array([sl,sw,pl,pw])\n",
        "  Y[i:] = (cat == sp).astype('float') # Atenção para essa linha!\n",
        "\n",
        "  # A última linha acima merece uma explicação mais longa:\n",
        "  # Nessa linha fazemos um teste booleano, comparando cada\n",
        "  # elemento do vetor cat com a string daquela linha do arquivo.\n",
        "  # Para os elementos onde a comparação der verdadeiro, teremos\n",
        "  # um booleano True, e para os elementos onde a comparação\n",
        "  # der falso, teremos um booleano False. O resultado da comparação\n",
        "  # do vetor cat com a string sp, na expressão cat == sp resulta\n",
        "  # numa array booleana com mesmo formato que cat, mas com\n",
        "  # valores booleanos True ou False em cada posição. O método\n",
        "  # .astype('float') transforma o resultado em um array de float,\n",
        "  # com 1.0 representando True e 0.0 representando False.\n",
        "  # Então transformamos uma string como 'Iris-setosa' no vetor\n",
        "  # [1.0, 0.0, 0.0] e uma string como 'Iris-versicolor' no vetor\n",
        "  # [0.0, 1.0, 0.0] e assim por diante."
      ],
      "execution_count": null,
      "outputs": []
    },
    {
      "cell_type": "markdown",
      "metadata": {
        "id": "WqlSmWlv6iVH"
      },
      "source": [
        "Nas linhas abaixo embaralhamos as amostras para não causar nenhum tipo de tendência no treinamento."
      ]
    },
    {
      "cell_type": "code",
      "metadata": {
        "id": "Fi-Xaru-YO1a"
      },
      "source": [
        "import random\n",
        "\n",
        "# Aqui criamos uma lista de índices\n",
        "# embaralhados\n",
        "indexes = list(range(150))\n",
        "random.shuffle(indexes)\n",
        "\n",
        "# Essa variável T indica quantas amostras\n",
        "# serão usadas para treinamento. As demais\n",
        "# serão usadas para validação\n",
        "T = 140\n",
        "\n",
        "# Aqui preparamos as matrizes dos pares\n",
        "# de dados de treinamento e validação.\n",
        "Xt = np.zeros((T,4))\n",
        "Yt = np.zeros((T,3))\n",
        "Xv = np.zeros((150-T,4))\n",
        "Yv = np.zeros((150-T,3))\n",
        "\n",
        "# Aqui preenchemos as matrizes com os\n",
        "# respectivos valores\n",
        "for i in range(0,T):\n",
        "  Xt[i,:] = X[indexes[i],:]\n",
        "  Yt[i,:] = Y[indexes[i],:]\n",
        "for i in range(0,150-T):\n",
        "  Xv[i,:] = X[indexes[T+i],:]\n",
        "  Yv[i,:] = Y[indexes[T+i],:]"
      ],
      "execution_count": null,
      "outputs": []
    },
    {
      "cell_type": "code",
      "metadata": {
        "id": "MXes0y1dcXTa"
      },
      "source": [
        "# Essa será a função de ativação\n",
        "# utilizada\n",
        "def sigmoid(x):\n",
        "  return 1.0 / (1.0 + np.exp(-x))\n",
        "\n",
        "# O código abaixo implementa uma rede\n",
        "# neural ariticial estilo perceptron\n",
        "# com 4 entradas, 8 neurônios escondidos\n",
        "# e 3 saídas\n",
        "class Perceptron:\n",
        "  def __init__(self):\n",
        "\n",
        "    # Pesos e biases da entrada para a camada\n",
        "    # escondida\n",
        "    self.Wh = np.random.random((8,4))*2.0 - 1.0\n",
        "    self.bh = np.random.random((8,1))*2.0 - 1.0\n",
        "\n",
        "    # Pesos e bieases da camada escondida para\n",
        "    # a saída\n",
        "    self.Wo = np.random.random((3,8))*2.0 - 1.0\n",
        "    self.bo = np.random.random((3,1))*2.0 - 1.0\n",
        "\n",
        "    # Esse será o passo de aprendizagem\n",
        "    self.eta = 0.1\n",
        "\n",
        "  def forward(self,x):\n",
        "\n",
        "    # Essa função faz o cálculo da saída\n",
        "    # da rede neural no sentido direto.\n",
        "\n",
        "    # Essa linha garante que x tenha tamanho\n",
        "    # de 4 linhas e 1 coluna\n",
        "    x = np.reshape(x,(4,1))\n",
        "\n",
        "    # Calcula a soma ponderada para a camada escondida\n",
        "    # somado ao bias\n",
        "    self.sh = np.dot(self.Wh,x) + self.bh\n",
        "\n",
        "    # Função de ativação é aplicada à camada escondida\n",
        "    self.zh = sigmoid(self.sh)\n",
        "\n",
        "    # Calcula a soma ponderada para a camada de saída\n",
        "    # somado ao bias\n",
        "    self.so = np.dot(self.Wo,self.zh) + self.bo\n",
        "\n",
        "    # Função de ativação é aplciada à camada de saída\n",
        "    self.zo = sigmoid(self.so)\n",
        "    return self.zo # saída da rede ou saida da função de ativação da ultima cada IMPORTANTE APROVEITAR\n",
        "\n",
        "  def train(self, X, Y):\n",
        "    width , length = np.shape(Y) # formato do vetor de saida\n",
        "    result_percep = np.zeros((width,length)) # Criando um vetor de zeros para armazenar os resultados de saida dos neurônios \n",
        "    error_final = 0\n",
        "    n_amostras = width\n",
        "    for i in range(n_amostras):\n",
        "      x  = X[i,:] # Pegando os 4 valores de entrada\n",
        "      x = np.reshape(x,(4,1))\n",
        "      y = self.forward(x) # Aplicando a rede neural nos valores de entrada\n",
        "      y_ = Y[i,:]\n",
        "      y_ = np.reshape(y_,(3,1)) # Pegando os valores de saída dos 3 ultimos neurônios\n",
        "      diff = y - y_\n",
        "      error = np.sum((diff)**2) # Erro quadrático entre a saída obtida e esperada\n",
        "      error_final = error_final + error\n",
        "      # Calculando os deltas das camadas\n",
        "      deltao =(diff)*(y*(1.0 - y))# Delta da camada escondida = diferença entra o calculado e estimada * derivada dos valores somados na camada\n",
        "      deltah= np.dot(self.Wo.T, deltao)*(self.zh*(1.0 - self.zh)) # Delta da camada escondida = (pesos^t .* delta da camada de saida)*derivada dos valores da camada\n",
        "      #Calculando os novos pesos\n",
        "      self.Wo = self.Wo - self.eta*(deltao*self.zh.T)\n",
        "      self.Wh = self.Wh - self.eta*(deltah*x.T)\n",
        "      # Calculando os novos bias\n",
        "      self.bo = self.bo - self.eta*deltao\n",
        "      self.bh = self.bh - self.eta*deltah\n",
        "      #l,w = np.shape(self.zh)\n",
        "      #print(l)\n",
        "      #print(w)\n",
        "    error_final = error_final/n_amostras #Erro\n",
        "    return error_final\n"
      ],
      "execution_count": null,
      "outputs": []
    },
    {
      "cell_type": "code",
      "metadata": {
        "id": "qbb2bQFlaCMV",
        "outputId": "dd8fae4d-1258-4ce0-8195-a39e71e0f333",
        "colab": {
          "base_uri": "https://localhost:8080/",
          "height": 34
        }
      },
      "source": [
        "p = Perceptron()\n",
        "p.train(Xt,Yt)"
      ],
      "execution_count": null,
      "outputs": [
        {
          "output_type": "execute_result",
          "data": {
            "text/plain": [
              "0.49622255168943213"
            ]
          },
          "metadata": {
            "tags": []
          },
          "execution_count": 8
        }
      ]
    },
    {
      "cell_type": "markdown",
      "metadata": {
        "id": "de8U56yo-_TD"
      },
      "source": [
        "Abaixo executamos o código, treinando a rede neural com os dados de treinamento separados anteriormente."
      ]
    },
    {
      "cell_type": "code",
      "metadata": {
        "id": "pOyjnTNkjbRp",
        "outputId": "b83dfea6-3d57-431c-93aa-86456a554005",
        "colab": {
          "base_uri": "https://localhost:8080/",
          "height": 187
        }
      },
      "source": [
        "# Criamos p que é nossa rede neural\n",
        "p = Perceptron()\n",
        "\n",
        "# Treinaremos 10 mil passos\n",
        "for i in range(10000):\n",
        "  \n",
        "  # Aqui um passo de treinamento\n",
        "  Err = p.train(Xt,Yt)\n",
        "\n",
        "  # A cada mil passos mostramos o erro\n",
        "  # total para verificar se está mesmo\n",
        "  # diminuindo.\n",
        "  if not (i % 1000) or i == 0:\n",
        "    print('Err = ',Err)"
      ],
      "execution_count": null,
      "outputs": [
        {
          "output_type": "stream",
          "text": [
            "Err =  0.6211764705245656\n",
            "Err =  0.023759374131492345\n",
            "Err =  0.015329792232192283\n",
            "Err =  0.014665852642940333\n",
            "Err =  0.01447146890572243\n",
            "Err =  0.014373875380395067\n",
            "Err =  0.014312504404928322\n",
            "Err =  0.014267965073287434\n",
            "Err =  0.014231507941509043\n",
            "Err =  0.014197833239643753\n"
          ],
          "name": "stdout"
        }
      ]
    },
    {
      "cell_type": "markdown",
      "metadata": {
        "id": "egEWbfBa_Nyw"
      },
      "source": [
        "Aqui vamos avaliar a performance dessa rede neural treinada, vendo como ela se sai nos dados separados para validação (dados para os quais ela nunca foi treinada)."
      ]
    },
    {
      "cell_type": "code",
      "metadata": {
        "id": "1CavDK5osyEK",
        "outputId": "a837888b-562d-4e18-9dcc-ff59341c092e",
        "colab": {
          "base_uri": "https://localhost:8080/",
          "height": 238
        }
      },
      "source": [
        "# Essa linha abaixo serve para suprimir a notação\n",
        "# científica padrão do numpy para facilitar nosso\n",
        "# olho humano comparar os resultados\n",
        "np.set_printoptions(formatter={'float':lambda x: '%+01.2f ' % x})\n",
        "\n",
        "# Para cada amostra de treinamento\n",
        "# nesse laço\n",
        "count = 0.0\n",
        "n = Yv.shape[0] # Número de amostras\n",
        "for i in range(150-T):\n",
        "  y_ones = np.zeros(Yv.shape[1])\n",
        "  # Separamos a entrada\n",
        "  xv = Xv[i,:]\n",
        "\n",
        "  # Calculamos a saída da rede\n",
        "  y = p.forward(xv)\n",
        "\n",
        "  # Separamos a saída esperada\n",
        "  yv = Yv[i,:]\n",
        "  idx = np.argmax(y)\n",
        "  y_ones[idx] = 1\n",
        "  idx2 = np.argmax(yv)\n",
        "  if idx == idx2:\n",
        "    count = count+1.0;\n",
        "  # Mostramos ambos lado a lado\n",
        "\n",
        "  \n",
        "  if i==0:\n",
        "    print('  Valores Obtidos','           Esperados','          Valores Obtidos(One hot encoding)')\n",
        "  print(y.T, yv,y_ones)\n",
        "count = count/n\n",
        "# Porcentagem de acerto\n",
        "print('\\n ',count*100,'% de acerto')"
      ],
      "execution_count": null,
      "outputs": [
        {
          "output_type": "stream",
          "text": [
            "  Valores Obtidos            Esperados           Valores Obtidos(One hot encoding)\n",
            "[[+0.00  +0.02  +0.99 ]] [+0.00  +0.00  +1.00 ] [+0.00  +0.00  +1.00 ]\n",
            "[[+1.00  +0.01  +0.00 ]] [+1.00  +0.00  +0.00 ] [+1.00  +0.00  +0.00 ]\n",
            "[[+0.00  +1.00  +0.00 ]] [+0.00  +1.00  +0.00 ] [+0.00  +1.00  +0.00 ]\n",
            "[[+1.00  +0.00  +0.00 ]] [+1.00  +0.00  +0.00 ] [+1.00  +0.00  +0.00 ]\n",
            "[[+1.00  +0.01  +0.00 ]] [+1.00  +0.00  +0.00 ] [+1.00  +0.00  +0.00 ]\n",
            "[[+0.00  +0.01  +0.99 ]] [+0.00  +0.00  +1.00 ] [+0.00  +0.00  +1.00 ]\n",
            "[[+1.00  +0.00  +0.00 ]] [+1.00  +0.00  +0.00 ] [+1.00  +0.00  +0.00 ]\n",
            "[[+0.00  +1.00  +0.00 ]] [+0.00  +1.00  +0.00 ] [+0.00  +1.00  +0.00 ]\n",
            "[[+1.00  +0.00  +0.00 ]] [+1.00  +0.00  +0.00 ] [+1.00  +0.00  +0.00 ]\n",
            "[[+0.00  +0.01  +0.99 ]] [+0.00  +0.00  +1.00 ] [+0.00  +0.00  +1.00 ]\n",
            "\n",
            " %f 100.0 % de acerto\n"
          ],
          "name": "stdout"
        }
      ]
    }
  ]
}