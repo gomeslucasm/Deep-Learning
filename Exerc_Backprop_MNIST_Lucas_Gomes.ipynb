{
  "nbformat": 4,
  "nbformat_minor": 0,
  "metadata": {
    "colab": {
      "name": "Exerc_Backprop_MNIST_Lucas_Gomes.ipynb",
      "provenance": [],
      "collapsed_sections": []
    },
    "kernelspec": {
      "name": "python3",
      "display_name": "Python 3"
    }
  },
  "cells": [
    {
      "cell_type": "markdown",
      "metadata": {
        "id": "OrgR4QVdZr0a"
      },
      "source": [
        "# Obtenção dos Dados\n",
        "\n",
        "Este código baixa os arquivos do [_dataset_ MNIST](https://en.wikipedia.org/wiki/MNIST_database) a partir do [site](http://yann.lecun.com/exdb/mnist/) do [Prof. Yann LeCun](https://en.wikipedia.org/wiki/Yann_LeCun)."
      ]
    },
    {
      "cell_type": "code",
      "metadata": {
        "id": "D1ysJPoDYhDm",
        "outputId": "979b2cb4-59f1-49a2-8f17-954e35d4448e",
        "colab": {
          "base_uri": "https://localhost:8080/",
          "height": 765
        }
      },
      "source": [
        "# Imagens de treinamento\n",
        "!wget http://yann.lecun.com/exdb/mnist/train-images-idx3-ubyte.gz -O train-images-idx3-ubyte.gz\n",
        "# Rótulos (classes)\n",
        "!wget http://yann.lecun.com/exdb/mnist/train-labels-idx1-ubyte.gz -O train-labels-idx1-ubyte.gz\n",
        "# Imagens de validação\n",
        "!wget http://yann.lecun.com/exdb/mnist/t10k-images-idx3-ubyte.gz -O t10k-images-idx3-ubyte.gz\n",
        "# Rótulos de validação (classes)\n",
        "!wget http://yann.lecun.com/exdb/mnist/t10k-labels-idx1-ubyte.gz -O t10k-labels-idx1-ubyte.gz"
      ],
      "execution_count": null,
      "outputs": [
        {
          "output_type": "stream",
          "text": [
            "--2020-05-26 01:01:13--  http://yann.lecun.com/exdb/mnist/train-images-idx3-ubyte.gz\n",
            "Resolving yann.lecun.com (yann.lecun.com)... 104.28.6.204, 104.28.7.204, 2606:4700:3031::681c:6cc, ...\n",
            "Connecting to yann.lecun.com (yann.lecun.com)|104.28.6.204|:80... connected.\n",
            "HTTP request sent, awaiting response... 200 OK\n",
            "Length: 9912422 (9.5M) [application/x-gzip]\n",
            "Saving to: ‘train-images-idx3-ubyte.gz’\n",
            "\n",
            "train-images-idx3-u 100%[===================>]   9.45M  3.95MB/s    in 2.4s    \n",
            "\n",
            "2020-05-26 01:01:16 (3.95 MB/s) - ‘train-images-idx3-ubyte.gz’ saved [9912422/9912422]\n",
            "\n",
            "--2020-05-26 01:01:17--  http://yann.lecun.com/exdb/mnist/train-labels-idx1-ubyte.gz\n",
            "Resolving yann.lecun.com (yann.lecun.com)... 104.28.6.204, 104.28.7.204, 2606:4700:3033::681c:7cc, ...\n",
            "Connecting to yann.lecun.com (yann.lecun.com)|104.28.6.204|:80... connected.\n",
            "HTTP request sent, awaiting response... 200 OK\n",
            "Length: 28881 (28K) [application/x-gzip]\n",
            "Saving to: ‘train-labels-idx1-ubyte.gz’\n",
            "\n",
            "train-labels-idx1-u 100%[===================>]  28.20K   134KB/s    in 0.2s    \n",
            "\n",
            "2020-05-26 01:01:18 (134 KB/s) - ‘train-labels-idx1-ubyte.gz’ saved [28881/28881]\n",
            "\n",
            "--2020-05-26 01:01:19--  http://yann.lecun.com/exdb/mnist/t10k-images-idx3-ubyte.gz\n",
            "Resolving yann.lecun.com (yann.lecun.com)... 104.28.7.204, 104.28.6.204, 2606:4700:3031::681c:6cc, ...\n",
            "Connecting to yann.lecun.com (yann.lecun.com)|104.28.7.204|:80... connected.\n",
            "HTTP request sent, awaiting response... 200 OK\n",
            "Length: 1648877 (1.6M) [application/x-gzip]\n",
            "Saving to: ‘t10k-images-idx3-ubyte.gz’\n",
            "\n",
            "t10k-images-idx3-ub 100%[===================>]   1.57M  1.22MB/s    in 1.3s    \n",
            "\n",
            "2020-05-26 01:01:21 (1.22 MB/s) - ‘t10k-images-idx3-ubyte.gz’ saved [1648877/1648877]\n",
            "\n",
            "--2020-05-26 01:01:23--  http://yann.lecun.com/exdb/mnist/t10k-labels-idx1-ubyte.gz\n",
            "Resolving yann.lecun.com (yann.lecun.com)... 104.28.7.204, 104.28.6.204, 2606:4700:3033::681c:7cc, ...\n",
            "Connecting to yann.lecun.com (yann.lecun.com)|104.28.7.204|:80... connected.\n",
            "HTTP request sent, awaiting response... 200 OK\n",
            "Length: 4542 (4.4K) [application/x-gzip]\n",
            "Saving to: ‘t10k-labels-idx1-ubyte.gz’\n",
            "\n",
            "t10k-labels-idx1-ub 100%[===================>]   4.44K  --.-KB/s    in 0s      \n",
            "\n",
            "2020-05-26 01:01:23 (384 MB/s) - ‘t10k-labels-idx1-ubyte.gz’ saved [4542/4542]\n",
            "\n"
          ],
          "name": "stdout"
        }
      ]
    },
    {
      "cell_type": "markdown",
      "metadata": {
        "id": "h-9Bk13cH3Qp"
      },
      "source": [
        "Abaixo extraímos os arquivos comprimidos. "
      ]
    },
    {
      "cell_type": "code",
      "metadata": {
        "id": "0Y07CnRjaJYU",
        "outputId": "688248c4-ba95-4291-88bc-751831b63b6c",
        "colab": {
          "base_uri": "https://localhost:8080/",
          "height": 85
        }
      },
      "source": [
        "# Extrai os arquivos treinamento\n",
        "!gunzip *.gz"
      ],
      "execution_count": null,
      "outputs": [
        {
          "output_type": "stream",
          "text": [
            "gzip: t10k-images-idx3-ubyte already exists; do you wish to overwrite (y or n)? y\n",
            "gzip: t10k-labels-idx1-ubyte already exists; do you wish to overwrite (y or n)? y\n",
            "gzip: train-images-idx3-ubyte already exists; do you wish to overwrite (y or n)? y\n",
            "gzip: train-labels-idx1-ubyte already exists; do you wish to overwrite (y or n)? y\n"
          ],
          "name": "stdout"
        }
      ]
    },
    {
      "cell_type": "markdown",
      "metadata": {
        "id": "X4O4zi5lf04t"
      },
      "source": [
        "# Leitura dos Dados\n",
        "\n",
        "Abaixo definimos as funções auxiliares para leitura do arquivo de imagens"
      ]
    },
    {
      "cell_type": "code",
      "metadata": {
        "id": "3-GlQ5rjbPwg"
      },
      "source": [
        "import numpy as np\n",
        "from struct import unpack\n",
        "\n",
        "def read_imgs(img_filename):\n",
        "  ''' Esta função lê o arquivo de imagens\n",
        "      da base de dados MNIST\n",
        "  '''\n",
        "\n",
        "  # Abre o arquivo\n",
        "  img_file = open(img_filename,'rb')\n",
        "\n",
        "  # Lê o cabeçalho do arquivo\n",
        "  magic = unpack('>i', img_file.read(4))[0]\n",
        "  total = unpack('>i', img_file.read(4))[0]\n",
        "  height = unpack('>i', img_file.read(4))[0]\n",
        "  width = unpack('>i', img_file.read(4))[0]\n",
        "\n",
        "  # Verifica se o arquivo passa no teste\n",
        "  # básico (este número deve ser sempre 2051)\n",
        "  if magic != 2051:\n",
        "    print('Erro, este arquivo não parece ser um arquivo de imagens MNIST')\n",
        "\n",
        "  # Aqui criamos a array do NumPy que armazenará\n",
        "  # as imagens\n",
        "  imgs = np.zeros((total,height,width))\n",
        "\n",
        "  # Nesse laço vamos lendo cada pixel e preenchendo\n",
        "  # no array\n",
        "  for k in range(total): # Cada amostra k\n",
        "    for i in range(height): # Cada linha i\n",
        "      for j in range(width): # Cada coluna j\n",
        "        imgs[k,i,j] = ord(img_file.read(1)) # Lemos 1 byte\n",
        "  \n",
        "  # Retornamos o array preenchido\n",
        "  return imgs"
      ],
      "execution_count": null,
      "outputs": []
    },
    {
      "cell_type": "markdown",
      "metadata": {
        "id": "ex6SljeojCtM"
      },
      "source": [
        "De forma semelhante ao realizado acima, aqui abaixo definimos as funções auxiliares para leitura do arquivo de rótulos."
      ]
    },
    {
      "cell_type": "code",
      "metadata": {
        "id": "gpK1CJ0mgAzn"
      },
      "source": [
        "def read_labels(labels_filename):\n",
        "  ''' Esta função lê o arquivo de rótulos\n",
        "      da base de dados MNIST\n",
        "  '''\n",
        "\n",
        "  # Abre o arquivo\n",
        "  labels_file = open(labels_filename,'rb')\n",
        "\n",
        "  # Lê o cabeçalho do arquivo\n",
        "  magic = unpack('>i', labels_file.read(4))[0]\n",
        "  total = unpack('>i', labels_file.read(4))[0]\n",
        "\n",
        "  # Verifica se o arquivo passa no teste\n",
        "  # básico (este número deve ser sempre 2051)\n",
        "  if magic != 2049:\n",
        "    print('Erro, este arquivo não parece ser um arquivo de imagens MNIST')\n",
        "\n",
        "  # Aqui criamos a array do NumPy que armazenará\n",
        "  # as imagens\n",
        "  labels = np.zeros((total))\n",
        "\n",
        "  # Nesse laço vamos lendo cada label e preenchendo\n",
        "  # no array\n",
        "  for k in range(total): # Cada amostra k\n",
        "    labels[k] = ord(labels_file.read(1)) # Lemos 1 byte\n",
        "  \n",
        "  # Retornamos o array preenchido\n",
        "  return labels"
      ],
      "execution_count": null,
      "outputs": []
    },
    {
      "cell_type": "markdown",
      "metadata": {
        "id": "PgwpORvVjHBf"
      },
      "source": [
        "Nas linhas abaixo chamamos as função de leitura para carregar as imagens e os respectivos rótulos"
      ]
    },
    {
      "cell_type": "code",
      "metadata": {
        "id": "JEEgfzZli9yF"
      },
      "source": [
        "# Lê dados de treinamento\n",
        "imgs = read_imgs('train-images-idx3-ubyte')\n",
        "labels = read_labels('train-labels-idx1-ubyte')\n",
        "\n",
        "# Lê dados de validação\n",
        "imgs_val = read_imgs('t10k-images-idx3-ubyte')\n",
        "labels_val = read_labels('t10k-labels-idx1-ubyte')"
      ],
      "execution_count": null,
      "outputs": []
    },
    {
      "cell_type": "code",
      "metadata": {
        "id": "7CuzNXq8Dtms",
        "outputId": "cb22960c-731f-47c0-c1b5-612d2168e8c0",
        "colab": {
          "base_uri": "https://localhost:8080/",
          "height": 85
        }
      },
      "source": [
        "import numpy as np\n",
        "\n",
        "print(imgs.shape[0])\n",
        "print(imgs.shape[1])\n",
        "print(imgs.shape[2])\n",
        "print(labels.shape[0])\n"
      ],
      "execution_count": null,
      "outputs": [
        {
          "output_type": "stream",
          "text": [
            "60000\n",
            "28\n",
            "28\n",
            "60000\n"
          ],
          "name": "stdout"
        }
      ]
    },
    {
      "cell_type": "markdown",
      "metadata": {
        "id": "pMkF8V5UEDE_"
      },
      "source": [
        "1 - a) Significa o número de imagens.\n",
        "\n",
        "b e c) Significam o número de linhas e colunas que armanzenam os pixels das imagens.\n",
        "\n",
        "d) Significa o número de rótulos das imagens."
      ]
    },
    {
      "cell_type": "code",
      "metadata": {
        "id": "Knj3DTRKEzkG",
        "outputId": "44171c34-88a0-4a73-d4cf-f027a21bab70",
        "colab": {
          "base_uri": "https://localhost:8080/",
          "height": 1000
        }
      },
      "source": [
        "import random\n",
        "import matplotlib.pyplot as plt\n",
        "\n",
        "n_img = imgs.shape[0]\n",
        "#idx = list(rang(n_img))\n",
        "idx = np.random.randint(0 ,n_img,12)\n",
        "\n",
        "for i in range(0,idx.shape[0],2):\n",
        "  plt.figure()\n",
        "  f, (ax1,ax2) = plt.subplots(1,2)\n",
        "  ax1.imshow(imgs[idx[i],:,:])\n",
        "  ax1.set_title(labels[idx[i]])\n",
        "  ax2.imshow(imgs[idx[i+1],:,:])\n",
        "  ax2.set_title(labels[idx[i+1]])"
      ],
      "execution_count": null,
      "outputs": [
        {
          "output_type": "display_data",
          "data": {
            "text/plain": [
              "<Figure size 432x288 with 0 Axes>"
            ]
          },
          "metadata": {
            "tags": []
          }
        },
        {
          "output_type": "display_data",
          "data": {
            "image/png": "[encoded data removed]",
            "text/plain": [
              "<Figure size 432x288 with 2 Axes>"
            ]
          },
          "metadata": {
            "tags": [],
            "needs_background": "light"
          }
        },
        {
          "output_type": "display_data",
          "data": {
            "text/plain": [
              "<Figure size 432x288 with 0 Axes>"
            ]
          },
          "metadata": {
            "tags": []
          }
        },
        {
          "output_type": "display_data",
          "data": {
            "image/png": "[encoded data removed]",
            "text/plain": [
              "<Figure size 432x288 with 2 Axes>"
            ]
          },
          "metadata": {
            "tags": [],
            "needs_background": "light"
          }
        },
        {
          "output_type": "display_data",
          "data": {
            "text/plain": [
              "<Figure size 432x288 with 0 Axes>"
            ]
          },
          "metadata": {
            "tags": []
          }
        },
        {
          "output_type": "display_data",
          "data": {
            "image/png": "[encoded data removed]",
            "text/plain": [
              "<Figure size 432x288 with 2 Axes>"
            ]
          },
          "metadata": {
            "tags": [],
            "needs_background": "light"
          }
        },
        {
          "output_type": "display_data",
          "data": {
            "text/plain": [
              "<Figure size 432x288 with 0 Axes>"
            ]
          },
          "metadata": {
            "tags": []
          }
        },
        {
          "output_type": "display_data",
          "data": {
            "image/png": "[encoded data removed]",
            "text/plain": [
              "<Figure size 432x288 with 2 Axes>"
            ]
          },
          "metadata": {
            "tags": [],
            "needs_background": "light"
          }
        },
        {
          "output_type": "display_data",
          "data": {
            "text/plain": [
              "<Figure size 432x288 with 0 Axes>"
            ]
          },
          "metadata": {
            "tags": []
          }
        },
        {
          "output_type": "display_data",
          "data": {
            "image/png": "[encoded data removed]",
            "text/plain": [
              "<Figure size 432x288 with 2 Axes>"
            ]
          },
          "metadata": {
            "tags": [],
            "needs_background": "light"
          }
        },
        {
          "output_type": "display_data",
          "data": {
            "text/plain": [
              "<Figure size 432x288 with 0 Axes>"
            ]
          },
          "metadata": {
            "tags": []
          }
        },
        {
          "output_type": "display_data",
          "data": {
            "image/png": "[encoded data removed]",
            "text/plain": [
              "<Figure size 432x288 with 2 Axes>"
            ]
          },
          "metadata": {
            "tags": [],
            "needs_background": "light"
          }
        }
      ]
    },
    {
      "cell_type": "code",
      "metadata": {
        "id": "owvYsbOXJSDY"
      },
      "source": [
        "# Randomizando o dataset\n",
        "idx = list(range(n_img))\n",
        "np.random.shuffle(idx)\n",
        "random_imgs = np.zeros((imgs.shape[0],imgs.shape[1],imgs.shape[2]))\n",
        "random_labels = np.zeros((imgs.shape[0],1))\n",
        "for i in range(imgs.shape[0]):\n",
        "  random_imgs[i,:,:] = imgs[idx[i],:,:]\n",
        "  random_labels[i] = labels[idx[i]]"
      ],
      "execution_count": null,
      "outputs": []
    },
    {
      "cell_type": "code",
      "metadata": {
        "id": "MGcRtXU0KfV1",
        "outputId": "f0d959c9-876a-4d4d-ed9d-3019b0414492",
        "colab": {
          "base_uri": "https://localhost:8080/",
          "height": 1000
        }
      },
      "source": [
        "n_img = imgs.shape[0]\n",
        "#idx = list(rang(n_img))\n",
        "idx = np.random.randint(0 ,n_img,12)\n",
        "\n",
        "for i in range(0,idx.shape[0],2):\n",
        "  plt.figure()\n",
        "  f, (ax1,ax2) = plt.subplots(1,2)\n",
        "  ax1.imshow(random_imgs[idx[i],:,:])\n",
        "  ax1.set_title(random_labels[idx[i]])\n",
        "  ax2.imshow(random_imgs[idx[i+1],:,:])\n",
        "  ax2.set_title(random_labels[idx[i+1]])"
      ],
      "execution_count": null,
      "outputs": [
        {
          "output_type": "stream",
          "text": [
            "/usr/local/lib/python3.6/dist-packages/matplotlib/text.py:1165: FutureWarning: elementwise comparison failed; returning scalar instead, but in the future will perform elementwise comparison\n",
            "  if s != self._text:\n"
          ],
          "name": "stderr"
        },
        {
          "output_type": "display_data",
          "data": {
            "text/plain": [
              "<Figure size 432x288 with 0 Axes>"
            ]
          },
          "metadata": {
            "tags": []
          }
        },
        {
          "output_type": "display_data",
          "data": {
            "image/png": "[encoded data removed]",
            "text/plain": [
              "<Figure size 432x288 with 2 Axes>"
            ]
          },
          "metadata": {
            "tags": [],
            "needs_background": "light"
          }
        },
        {
          "output_type": "display_data",
          "data": {
            "text/plain": [
              "<Figure size 432x288 with 0 Axes>"
            ]
          },
          "metadata": {
            "tags": []
          }
        },
        {
          "output_type": "display_data",
          "data": {
            "image/png": "[encoded data removed]",
            "text/plain": [
              "<Figure size 432x288 with 2 Axes>"
            ]
          },
          "metadata": {
            "tags": [],
            "needs_background": "light"
          }
        },
        {
          "output_type": "display_data",
          "data": {
            "text/plain": [
              "<Figure size 432x288 with 0 Axes>"
            ]
          },
          "metadata": {
            "tags": []
          }
        },
        {
          "output_type": "display_data",
          "data": {
            "image/png": "[encoded data removed]",
            "text/plain": [
              "<Figure size 432x288 with 2 Axes>"
            ]
          },
          "metadata": {
            "tags": [],
            "needs_background": "light"
          }
        },
        {
          "output_type": "display_data",
          "data": {
            "text/plain": [
              "<Figure size 432x288 with 0 Axes>"
            ]
          },
          "metadata": {
            "tags": []
          }
        },
        {
          "output_type": "display_data",
          "data": {
            "image/png": "[encoded data removed]",
            "text/plain": [
              "<Figure size 432x288 with 2 Axes>"
            ]
          },
          "metadata": {
            "tags": [],
            "needs_background": "light"
          }
        },
        {
          "output_type": "display_data",
          "data": {
            "text/plain": [
              "<Figure size 432x288 with 0 Axes>"
            ]
          },
          "metadata": {
            "tags": []
          }
        },
        {
          "output_type": "display_data",
          "data": {
            "image/png": "[encoded data removed]",
            "text/plain": [
              "<Figure size 432x288 with 2 Axes>"
            ]
          },
          "metadata": {
            "tags": [],
            "needs_background": "light"
          }
        },
        {
          "output_type": "display_data",
          "data": {
            "text/plain": [
              "<Figure size 432x288 with 0 Axes>"
            ]
          },
          "metadata": {
            "tags": []
          }
        },
        {
          "output_type": "display_data",
          "data": {
            "image/png": "[encoded data removed]",
            "text/plain": [
              "<Figure size 432x288 with 2 Axes>"
            ]
          },
          "metadata": {
            "tags": [],
            "needs_background": "light"
          }
        }
      ]
    },
    {
      "cell_type": "code",
      "metadata": {
        "id": "f2eziVFCM1iI"
      },
      "source": [
        "# Serializando e normalizando os dados\n",
        "X = np.zeros((imgs.shape[0], imgs.shape[1]*imgs.shape[2]))\n",
        "for i in range(imgs.shape[0]):\n",
        "  X[i,:] = random_imgs[i,:,:].flatten() # Transformando a imagem 2d em um array 1d\n",
        "  X[i,:] = X[i,:]/255 # Colocando os valores de cada imagem entre 0 e 1\n"
      ],
      "execution_count": null,
      "outputs": []
    },
    {
      "cell_type": "code",
      "metadata": {
        "id": "GF9w-2lDPI7Q",
        "outputId": "ee3c033f-f849-4f4a-9089-7f1d754f58f9",
        "colab": {
          "base_uri": "https://localhost:8080/",
          "height": 68
        }
      },
      "source": [
        "unique_labels = np.unique(labels)\n",
        "print('Labels:')\n",
        "print(unique_labels)\n",
        "print(labels)"
      ],
      "execution_count": null,
      "outputs": [
        {
          "output_type": "stream",
          "text": [
            "Labels:\n",
            "[0. 1. 2. 3. 4. 5. 6. 7. 8. 9.]\n",
            "[5. 0. 4. ... 5. 6. 8.]\n"
          ],
          "name": "stdout"
        }
      ]
    },
    {
      "cell_type": "code",
      "metadata": {
        "id": "KekpqjGOPl8h"
      },
      "source": [
        "# One hot encoding\n",
        "Y_desired = np.zeros((n_img,unique_labels.shape[0]))\n",
        "for i in range(Y_desired.shape[0]):\n",
        "  Y_desired[i,:] = (unique_labels == random_labels[i])\n",
        "  #print(Y_desired[i,:])"
      ],
      "execution_count": null,
      "outputs": []
    },
    {
      "cell_type": "code",
      "metadata": {
        "id": "1OfH6FeAP1mD"
      },
      "source": [
        "# Sigmoid\n",
        "def sigmoid(x):\n",
        "  return 1/(1+np.exp(-x))\n",
        "# Softmax\n",
        "def softmax(x):\n",
        "  return x/sum(np.exp(x))"
      ],
      "execution_count": null,
      "outputs": []
    },
    {
      "cell_type": "code",
      "metadata": {
        "id": "VqXijxAFZulY"
      },
      "source": [
        "# Perceptron\n",
        "\n",
        "class Perceptron():\n",
        "  def __init__(self):\n",
        "    # Camada escondida 1\n",
        "    self.Wh1 = np.random.random((256,28*28))*2.0 - 1.0\n",
        "    self.bh1 = np.random.random((256,1))*2.0 - 1.0\n",
        "    # Camada escondida 2\n",
        "    self.Wh2 = np.random.random((64,256))*2.0 - 1.0\n",
        "    self.bh2 = np.random.random((64,1))*2.0 - 1.0\n",
        "    # Camada de saída\n",
        "    self.Wo = np.random.random((10,64))*2.0 - 1.0\n",
        "    self.bo = np.random.random((10,1))*2.0 - 1.0\n",
        "    # Passo de aprendizagem\n",
        "    self.eta = 0.1\n",
        "  def forward(self,X):\n",
        "    X = np.reshape(X,(X.shape[0],1))\n",
        "    # Camada escondida 1\n",
        "    self.sh1 = np.dot(self.Wh1,X) + self.bh1\n",
        "    self.zh1 = sigmoid(self.sh1)\n",
        "    # Camada escondida 2\n",
        "    self.sh2 = np.dot(self.Wh2,self.zh1) + self.bh2\n",
        "    self.zh2 = sigmoid(self.sh2)\n",
        "    # Camada de saída\n",
        "    self.so = np.dot(self.Wo,self.zh2) + self.bo\n",
        "    self.zo = sigmoid(self.so)\n",
        "    return np.reshape(softmax(self.zo),(10,1))\n",
        "\n",
        "  def backprop(self,x,y_desired):\n",
        "    y = self.forward(x)\n",
        "    y_desired = np.reshape(y_desired,(10,1))\n",
        "    diff = (y - y_desired)\n",
        "    # Calculando os deltas\n",
        "    deltao =(diff)*(self.zo*(1.0 - self.zo))# Delta da camada escondida = diferença entra o calculado e estimada * derivada dos valores somados na camada\n",
        "    #l,w = np.shape(deltao)\n",
        "    #print(l)\n",
        "    #print(w)\n",
        "    deltah2= np.dot(self.Wo.T, deltao)*(self.zh2*(1.0 - self.zh2))\n",
        "    #l,w = np.shape(deltah2)\n",
        "    #print(l)\n",
        "    #print(w)\n",
        "    deltah1= np.dot(self.Wh2.T, deltah2)*(self.zh1*(1.0 - self.zh1))\n",
        "    #Calculando os novos pesos\n",
        "    self.Wo = self.Wo - self.eta*(deltao*self.zh2.T)\n",
        "    self.Wh1 = self.Wh1 - self.eta*(deltah1*x.T)\n",
        "    self.Wh2 = self.Wh2 - self.eta*(deltah2*self.zh1.T)\n",
        "    # Calculando os novos bias\n",
        "    self.bo = self.bo - self.eta*deltao\n",
        "    self.bh2 = self.bh2 - self.eta*deltah2\n",
        "    self.bh1 = self.bh1 - self.eta*deltah1\n",
        "    return sum(diff**2)/2\n",
        "    \n",
        "  def train(self,X,Y,n):\n",
        "    error = np.zeros(n)\n",
        "    for j in range(n):\n",
        "      err = 0\n",
        "      for i in range(X.shape[0]):\n",
        "        k = self.backprop(X[i,:],Y[i,:])\n",
        "        err = err + k\n",
        "      err = err/X.shape[0]\n",
        "      print(err)\n",
        "      error[j]= err\n",
        "    return error\n"
      ],
      "execution_count": null,
      "outputs": []
    },
    {
      "cell_type": "code",
      "metadata": {
        "id": "Ew6uLtGdhy1f",
        "outputId": "ac1cb237-fba2-4def-db32-b0c48b06a9d9",
        "colab": {
          "base_uri": "https://localhost:8080/",
          "height": 187
        }
      },
      "source": [
        "p = Perceptron()\n",
        "result = p.train(X,Y_desired,10)"
      ],
      "execution_count": null,
      "outputs": [
        {
          "output_type": "stream",
          "text": [
            "[0.45708486]\n",
            "[0.44600009]\n",
            "[0.4428377]\n",
            "[0.43583358]\n",
            "[0.42608733]\n",
            "[0.42401238]\n",
            "[0.4229494]\n",
            "[0.42222395]\n",
            "[0.42168597]\n",
            "[0.42124331]\n"
          ],
          "name": "stdout"
        }
      ]
    },
    {
      "cell_type": "code",
      "metadata": {
        "id": "XWDgBy39YqET",
        "outputId": "79df626d-b25b-45ea-a87f-087c9e5d3bef",
        "colab": {
          "base_uri": "https://localhost:8080/",
          "height": 314
        }
      },
      "source": [
        "import matplotlib.pyplot as plt\n",
        "plt.show()\n",
        "plt.plot(result)\n",
        "plt.title('Mudança do erro a cada época')\n",
        "plt.ylabel('(y - y^)²/n')\n",
        "plt.xlabel('Épocas')"
      ],
      "execution_count": null,
      "outputs": [
        {
          "output_type": "execute_result",
          "data": {
            "text/plain": [
              "Text(0.5, 0, 'Épocas')"
            ]
          },
          "metadata": {
            "tags": []
          },
          "execution_count": 58
        },
        {
          "output_type": "display_data",
          "data": {
            "image/png": "[encoded data removed]",
            "text/plain": [
              "<Figure size 432x288 with 1 Axes>"
            ]
          },
          "metadata": {
            "tags": [],
            "needs_background": "light"
          }
        }
      ]
    },
    {
      "cell_type": "code",
      "metadata": {
        "id": "EcK-IKDgiOqY",
        "outputId": "b1836acd-7242-4814-8c93-9ef89162eb20",
        "colab": {
          "base_uri": "https://localhost:8080/",
          "height": 34
        }
      },
      "source": [
        "# Serialização e normalização\n",
        "X_val = np.zeros((imgs_val.shape[0], imgs_val.shape[1]*imgs_val.shape[2]))\n",
        "for i in range(imgs_val.shape[0]):\n",
        "  X_val[i,:] = imgs_val[i,:,:].flatten() # Transformando a imagem 2d em um array 1d\n",
        "  X_val[i,:] = X_val[i,:]/255 # Colocando os valores de cada imagem entre 0 e 1\n"
      ],
      "execution_count": null,
      "outputs": [
        {
          "output_type": "stream",
          "text": [
            "(10000,)\n"
          ],
          "name": "stdout"
        }
      ]
    },
    {
      "cell_type": "code",
      "metadata": {
        "id": "SwH3bmygFByS"
      },
      "source": [
        "def accuracy(p,x,y,print = 0):\n",
        "  c =0\n",
        "  for i in range(y.shape[0]):\n",
        "    k = p.forward(x[i,:])\n",
        "    idx = np.argmax(k)\n",
        "    if idx == y[i] :\n",
        "      c = c + 1\n",
        "    # Print == 1 para exibir a comparação de alguns valores\n",
        "    if print ==1:\n",
        "      if i%1000 == 0:\n",
        "        print(idx,y[i])\n",
        "  return print((c/x.shape[0])*100, '% de acerto' )"
      ],
      "execution_count": null,
      "outputs": []
    },
    {
      "cell_type": "code",
      "metadata": {
        "id": "5XELmCTzL1mv",
        "outputId": "eefb9707-5c51-4616-8299-46806272b93a",
        "colab": {
          "base_uri": "https://localhost:8080/",
          "height": 221
        }
      },
      "source": [
        "# Testando o acerto para os dados de validação\n",
        "accuracy(p,X_val,labels_val)\n",
        "print('Teste com os dados de validação')"
      ],
      "execution_count": null,
      "outputs": [
        {
          "output_type": "stream",
          "text": [
            "7 7.0\n",
            "9 9.0\n",
            "6 6.0\n",
            "6 6.0\n",
            "9 9.0\n",
            "3 3.0\n",
            "9 9.0\n",
            "1 1.0\n",
            "4 4.0\n",
            "7 7.0\n",
            "95.22 % de acerto\n",
            "Teste com os dados de validação\n"
          ],
          "name": "stdout"
        }
      ]
    },
    {
      "cell_type": "code",
      "metadata": {
        "id": "W2tqtpZIg9iN",
        "outputId": "097deef2-0f12-4098-e953-dd5178b8c9ac",
        "colab": {
          "base_uri": "https://localhost:8080/",
          "height": 1000
        }
      },
      "source": [
        "# Testando o acerto para os dados de validação\n",
        "accuracy(p,X,random_labels)\n",
        "print('Teste com os dados usados no treinamento')"
      ],
      "execution_count": null,
      "outputs": [
        {
          "output_type": "stream",
          "text": [
            "0 [0.]\n",
            "2 [2.]\n",
            "8 [5.]\n",
            "1 [1.]\n",
            "8 [8.]\n",
            "0 [0.]\n",
            "0 [0.]\n",
            "1 [1.]\n",
            "5 [5.]\n",
            "8 [8.]\n",
            "9 [9.]\n",
            "4 [4.]\n",
            "2 [2.]\n",
            "1 [1.]\n",
            "3 [3.]\n",
            "3 [3.]\n",
            "0 [0.]\n",
            "8 [8.]\n",
            "4 [4.]\n",
            "2 [2.]\n",
            "8 [8.]\n",
            "4 [4.]\n",
            "7 [7.]\n",
            "5 [5.]\n",
            "9 [9.]\n",
            "9 [9.]\n",
            "4 [4.]\n",
            "0 [0.]\n",
            "4 [4.]\n",
            "6 [6.]\n",
            "2 [2.]\n",
            "9 [9.]\n",
            "2 [2.]\n",
            "7 [7.]\n",
            "4 [4.]\n",
            "3 [3.]\n",
            "6 [6.]\n",
            "2 [2.]\n",
            "3 [3.]\n",
            "0 [0.]\n",
            "6 [6.]\n",
            "1 [1.]\n",
            "2 [2.]\n",
            "3 [3.]\n",
            "5 [5.]\n",
            "2 [2.]\n",
            "7 [7.]\n",
            "6 [6.]\n",
            "4 [4.]\n",
            "6 [6.]\n",
            "7 [7.]\n",
            "9 [9.]\n",
            "4 [4.]\n",
            "9 [9.]\n",
            "7 [7.]\n",
            "5 [5.]\n",
            "1 [1.]\n",
            "9 [9.]\n",
            "6 [6.]\n",
            "0 [0.]\n",
            "96.74166666666667 % de acerto\n",
            "Teste com os dados usados no treinamento\n"
          ],
          "name": "stdout"
        }
      ]
    }
  ]
}